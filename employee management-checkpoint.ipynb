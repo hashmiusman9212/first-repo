{
 "cells": [
  {
   "cell_type": "code",
   "execution_count": 36,
   "id": "a8014749",
   "metadata": {},
   "outputs": [],
   "source": [
    "employee={}"
   ]
  },
  {
   "cell_type": "code",
   "execution_count": null,
   "id": "7a770a20",
   "metadata": {},
   "outputs": [],
   "source": [
    "def employee_creation():\n",
    "\n",
    "    quit = \"\"\n",
    "    while quit != 'a':\n",
    "        quit = input('press 1 to create new employee and press a to exit: ')\n",
    "        if quit == '1':\n",
    "            e_dict = {}\n",
    "\n",
    "            e_dict[\"id\"] = input('Enter your ID: ')\n",
    "            e_dict[\"name\"] = input('Enter your name: ')\n",
    "            e_dict[\"type\"] = input('Enter your type: ')\n",
    "            e_dict[\"age\"] = input('Enter your age: ')\n",
    "            e_dict[\"status\"] = input('Enter your status(married or unmarried): ')\n",
    "            e_dict[\"kids\"] = input('Enter your kids(enter 0 if none): ')\n",
    "            e_dict[\"years\"]= input('Enter your years: ')\n",
    "            quit = input('To Exit Press a: ')\n",
    "\n",
    "            employee['id']=e_dict\n",
    "            "
   ]
  },
  {
   "cell_type": "code",
   "execution_count": null,
   "id": "5a7c9e0c",
   "metadata": {},
   "outputs": [],
   "source": [
    "employee_creation()"
   ]
  },
  {
   "cell_type": "code",
   "execution_count": null,
   "id": "09662a7a",
   "metadata": {},
   "outputs": [],
   "source": [
    "def employee_update():\n",
    "    quit = ''\n",
    "    while quit != 'a':\n",
    "        quit = input('press 2 to create new employee and press a to exit')\n",
    "        if quit == '2':\n",
    "            e_temp = input('Enter employee id to be updated')\n",
    "            print(employee[e_temp])\n",
    "            update = input('What do you want to update: ')\n",
    "            employee[e_temp][update] = input(\"What is the new value: \")\n",
    "            print(employee[e_temp])"
   ]
  },
  {
   "cell_type": "code",
   "execution_count": 55,
   "id": "20589873",
   "metadata": {},
   "outputs": [
    {
     "name": "stdout",
     "output_type": "stream",
     "text": [
      "press 2 to create new employee and press a to exit2\n",
      "press 2 to create new employee and press a to exit2\n",
      "press 2 to create new employee and press a to exit2\n",
      "press 2 to create new employee and press a to exita\n",
      "Enter employee id to be updated1\n"
     ]
    },
    {
     "ename": "KeyError",
     "evalue": "'1'",
     "output_type": "error",
     "traceback": [
      "\u001b[1;31m---------------------------------------------------------------------------\u001b[0m",
      "\u001b[1;31mKeyError\u001b[0m                                  Traceback (most recent call last)",
      "\u001b[1;32m<ipython-input-55-c493583512e4>\u001b[0m in \u001b[0;36m<module>\u001b[1;34m\u001b[0m\n\u001b[1;32m----> 1\u001b[1;33m \u001b[0memployee_update\u001b[0m\u001b[1;33m(\u001b[0m\u001b[1;33m)\u001b[0m\u001b[1;33m\u001b[0m\u001b[1;33m\u001b[0m\u001b[0m\n\u001b[0m",
      "\u001b[1;32m<ipython-input-50-312a5c217aac>\u001b[0m in \u001b[0;36memployee_update\u001b[1;34m()\u001b[0m\n\u001b[0;32m      5\u001b[0m         \u001b[1;32mif\u001b[0m \u001b[0mquit\u001b[0m \u001b[1;33m!=\u001b[0m \u001b[1;34m'2'\u001b[0m\u001b[1;33m:\u001b[0m\u001b[1;33m\u001b[0m\u001b[1;33m\u001b[0m\u001b[0m\n\u001b[0;32m      6\u001b[0m             \u001b[0me_temp\u001b[0m \u001b[1;33m=\u001b[0m \u001b[0minput\u001b[0m\u001b[1;33m(\u001b[0m\u001b[1;34m'Enter employee id to be updated'\u001b[0m\u001b[1;33m)\u001b[0m\u001b[1;33m\u001b[0m\u001b[1;33m\u001b[0m\u001b[0m\n\u001b[1;32m----> 7\u001b[1;33m             \u001b[0mprint\u001b[0m\u001b[1;33m(\u001b[0m\u001b[0memployee\u001b[0m\u001b[1;33m[\u001b[0m\u001b[0me_temp\u001b[0m\u001b[1;33m]\u001b[0m\u001b[1;33m)\u001b[0m\u001b[1;33m\u001b[0m\u001b[1;33m\u001b[0m\u001b[0m\n\u001b[0m\u001b[0;32m      8\u001b[0m             \u001b[0mupdate\u001b[0m \u001b[1;33m=\u001b[0m \u001b[0minput\u001b[0m\u001b[1;33m(\u001b[0m\u001b[1;34m'What do you want to update: '\u001b[0m\u001b[1;33m)\u001b[0m\u001b[1;33m\u001b[0m\u001b[1;33m\u001b[0m\u001b[0m\n\u001b[0;32m      9\u001b[0m             \u001b[0memployee\u001b[0m\u001b[1;33m[\u001b[0m\u001b[0me_temp\u001b[0m\u001b[1;33m]\u001b[0m\u001b[1;33m[\u001b[0m\u001b[0mupdate\u001b[0m\u001b[1;33m]\u001b[0m \u001b[1;33m=\u001b[0m \u001b[0minput\u001b[0m\u001b[1;33m(\u001b[0m\u001b[1;34m\"What is the new value: \"\u001b[0m\u001b[1;33m)\u001b[0m\u001b[1;33m\u001b[0m\u001b[1;33m\u001b[0m\u001b[0m\n",
      "\u001b[1;31mKeyError\u001b[0m: '1'"
     ]
    }
   ],
   "source": [
    "employee_update()"
   ]
  },
  {
   "cell_type": "code",
   "execution_count": null,
   "id": "9840524a",
   "metadata": {},
   "outputs": [],
   "source": []
  }
 ],
 "metadata": {
  "kernelspec": {
   "display_name": "Python 3",
   "language": "python",
   "name": "python3"
  },
  "language_info": {
   "codemirror_mode": {
    "name": "ipython",
    "version": 3
   },
   "file_extension": ".py",
   "mimetype": "text/x-python",
   "name": "python",
   "nbconvert_exporter": "python",
   "pygments_lexer": "ipython3",
   "version": "3.8.8"
  }
 },
 "nbformat": 4,
 "nbformat_minor": 5
}
