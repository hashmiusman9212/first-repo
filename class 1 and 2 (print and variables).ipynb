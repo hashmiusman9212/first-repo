{
 "cells": [
  {
   "cell_type": "code",
   "execution_count": 4,
   "id": "fd1a81ed",
   "metadata": {},
   "outputs": [
    {
     "name": "stdout",
     "output_type": "stream",
     "text": [
      "they are equal\n"
     ]
    }
   ],
   "source": [
    "num1=10\n",
    "num2=5\n",
    "if num1 == num2:\n",
    "    print('they are equal')\n",
    "else:\n",
    "    print('they are not equal')"
   ]
  },
  {
   "cell_type": "code",
   "execution_count": 3,
   "id": "7042b8cc",
   "metadata": {},
   "outputs": [
    {
     "name": "stdout",
     "output_type": "stream",
     "text": [
      "invalid pw\n"
     ]
    }
   ],
   "source": [
    "password=\"hashmi\"\n",
    "pasword=\"usman\"\n",
    "if password == pasword:\n",
    "    print('valid pw')\n",
    "else:\n",
    "    print('invalid pw')"
   ]
  },
  {
   "cell_type": "code",
   "execution_count": 10,
   "id": "75c49c1e",
   "metadata": {},
   "outputs": [
    {
     "name": "stdout",
     "output_type": "stream",
     "text": [
      "recurit\n"
     ]
    }
   ],
   "source": [
    "if (weight >= 300) and (time >= 6) and (height >= 5.8):\n",
    "    print('recurit')"
   ]
  },
  {
   "cell_type": "code",
   "execution_count": 21,
   "id": "7e294da7",
   "metadata": {},
   "outputs": [
    {
     "name": "stdout",
     "output_type": "stream",
     "text": [
      "hello\n"
     ]
    }
   ],
   "source": [
    "if (weight >= 300):\n",
    "    print(\"hello\")\n",
    "elif (time >= 6):\n",
    "    if (height >= 5.8):\n",
    "        print(\"OK\")"
   ]
  },
  {
   "cell_type": "code",
   "execution_count": 22,
   "id": "45d0a2af",
   "metadata": {},
   "outputs": [
    {
     "name": "stdout",
     "output_type": "stream",
     "text": [
      "168\n"
     ]
    }
   ],
   "source": [
    "x=14*12\n",
    "print(x)\n"
   ]
  },
  {
   "cell_type": "code",
   "execution_count": null,
   "id": "dd434270",
   "metadata": {},
   "outputs": [],
   "source": []
  }
 ],
 "metadata": {
  "kernelspec": {
   "display_name": "Python 3",
   "language": "python",
   "name": "python3"
  },
  "language_info": {
   "codemirror_mode": {
    "name": "ipython",
    "version": 3
   },
   "file_extension": ".py",
   "mimetype": "text/x-python",
   "name": "python",
   "nbconvert_exporter": "python",
   "pygments_lexer": "ipython3",
   "version": "3.8.8"
  }
 },
 "nbformat": 4,
 "nbformat_minor": 5
}
