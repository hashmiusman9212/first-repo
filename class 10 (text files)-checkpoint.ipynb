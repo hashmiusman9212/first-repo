{
 "cells": [
  {
   "cell_type": "code",
   "execution_count": 7,
   "id": "f64e24cd",
   "metadata": {},
   "outputs": [],
   "source": [
    "#saving data in text file\n",
    "with open('hello world.txt','w') as file:\n",
    "# mode is the type by which we want to open the file\n",
    "# write=w\n",
    "# read=r\n",
    "# append=a\n",
    "    file.write('hello world')"
   ]
  },
  {
   "cell_type": "code",
   "execution_count": 11,
   "id": "49da81b6",
   "metadata": {},
   "outputs": [],
   "source": [
    "with open ('bio data','w') as file:\n",
    "    file.write('m.usman hashmi\\n15 years\\nolevels 10 class')"
   ]
  },
  {
   "cell_type": "code",
   "execution_count": 17,
   "id": "c7665d5d",
   "metadata": {},
   "outputs": [],
   "source": [
    "with open ('bio data','a')as f:\n",
    "    f.write('\\nnew line')"
   ]
  },
  {
   "cell_type": "code",
   "execution_count": null,
   "id": "0f0ba642",
   "metadata": {},
   "outputs": [],
   "source": [
    "quit=''\n",
    "while quit != \"quit\":\n",
    "    quit = input(\"Enter student data, or quit to quit:\")\n",
    "    with open ('student data','w')as f:\n",
    "        f.write('usman\\n15 years\\n10 class\\nfather uzair hashmi\\nstudent since pre nursrey')"
   ]
  },
  {
   "cell_type": "code",
   "execution_count": 41,
   "id": "c400f767",
   "metadata": {},
   "outputs": [
    {
     "name": "stdout",
     "output_type": "stream",
     "text": [
      "Enter student name usman\n",
      "Enter student age 15\n",
      "Enter student class olevel 10\n",
      "type quit to quit quit\n"
     ]
    }
   ],
   "source": [
    "stopper = ''\n",
    "while stopper != 'quit':\n",
    "    with open ('student data','w')as f:\n",
    "        name= input('Enter student name ')\n",
    "        age=input('Enter student age ')\n",
    "        studentclass=input('Enter student class ')\n",
    "        f.write(name+'\\n')\n",
    "        f.write(age+'\\n')\n",
    "        f.write(studentclass+'\\n')\n",
    "        stopper=input('type quit to quit ')   "
   ]
  },
  {
   "cell_type": "code",
   "execution_count": null,
   "id": "f91e7ca0",
   "metadata": {},
   "outputs": [],
   "source": []
  }
 ],
 "metadata": {
  "kernelspec": {
   "display_name": "Python 3",
   "language": "python",
   "name": "python3"
  },
  "language_info": {
   "codemirror_mode": {
    "name": "ipython",
    "version": 3
   },
   "file_extension": ".py",
   "mimetype": "text/x-python",
   "name": "python",
   "nbconvert_exporter": "python",
   "pygments_lexer": "ipython3",
   "version": "3.8.8"
  }
 },
 "nbformat": 4,
 "nbformat_minor": 5
}
