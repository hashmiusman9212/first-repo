{
 "cells": [
  {
   "cell_type": "code",
   "execution_count": 38,
   "id": "03b0a5a8",
   "metadata": {},
   "outputs": [],
   "source": [
    "def display_result(pizza_type,pizza_flavour, **other_info):\n",
    "    print(\"pizza flavour is \" + pizza_flavour)\n",
    "    print(\"pizza type is \" + pizza_type)\n",
    "    for i,j in other_info.items():\n",
    "        print('your',i,'is',j)"
   ]
  },
  {
   "cell_type": "code",
   "execution_count": 39,
   "id": "918c7ed2",
   "metadata": {},
   "outputs": [
    {
     "name": "stdout",
     "output_type": "stream",
     "text": [
      "pizza flavour is non spicy\n",
      "pizza type is extra large\n",
      "your topping1 is cheese\n",
      "your topping2 is olives\n",
      "your topping3 is pepperoni\n",
      "your drink is fanta\n"
     ]
    }
   ],
   "source": [
    "display_result('extra large','non spicy',topping1='cheese',topping2='olives',topping3='pepperoni',drink='fanta')"
   ]
  },
  {
   "cell_type": "code",
   "execution_count": 40,
   "id": "82f19516",
   "metadata": {},
   "outputs": [],
   "source": [
    "def add_numbers(num1,num2,*numbers):\n",
    "    res=num1+num2\n",
    "    for i in numbers:\n",
    "        res= res+i\n",
    "    print(res)   "
   ]
  },
  {
   "cell_type": "code",
   "execution_count": 41,
   "id": "3d457548",
   "metadata": {},
   "outputs": [
    {
     "name": "stdout",
     "output_type": "stream",
     "text": [
      "55\n"
     ]
    }
   ],
   "source": [
    "add_numbers(1,2,3,4,5,6,7,8,9,10)"
   ]
  },
  {
   "cell_type": "code",
   "execution_count": 42,
   "id": "ab8585e4",
   "metadata": {},
   "outputs": [],
   "source": [
    "def sub_numbers(num1,num2,*numbers):\n",
    "    res=num1-num2\n",
    "    for i in numbers:\n",
    "        res= res-i\n",
    "    print(res)   "
   ]
  },
  {
   "cell_type": "code",
   "execution_count": 43,
   "id": "9da93b78",
   "metadata": {
    "scrolled": true
   },
   "outputs": [
    {
     "name": "stdout",
     "output_type": "stream",
     "text": [
      "-27\n"
     ]
    }
   ],
   "source": [
    "sub_numbers(9,8,7,6,5,4,3,2,1)"
   ]
  },
  {
   "cell_type": "code",
   "execution_count": null,
   "id": "e28ab33a",
   "metadata": {},
   "outputs": [],
   "source": [
    "user_input = \"\"\n",
    "while user_input != \"quit\":\n",
    "    user_input = input(\"Enter a num, or quit to quit:\")\n",
    "    print(user_input)"
   ]
  },
  {
   "cell_type": "code",
   "execution_count": 63,
   "id": "e28a73c9",
   "metadata": {},
   "outputs": [
    {
     "name": "stdout",
     "output_type": "stream",
     "text": [
      "enter num1: 2\n",
      "enter num2: 4\n",
      "6\n",
      "quit no\n",
      "enter num1: 2\n",
      "enter num2: 7\n",
      "9\n",
      "quit yes\n"
     ]
    }
   ],
   "source": [
    "user_input=''\n",
    "while user_input != \"yes\":\n",
    "    num1=int(input('enter num1: '))\n",
    "    num2=int(input('enter num2: '))\n",
    "    res=num1+num2\n",
    "    print(res)\n",
    "    user_input = input('quit ')"
   ]
  },
  {
   "cell_type": "code",
   "execution_count": 28,
   "id": "277cc24d",
   "metadata": {},
   "outputs": [],
   "source": [
    "customer = []"
   ]
  },
  {
   "cell_type": "code",
   "execution_count": null,
   "id": "7827d199",
   "metadata": {},
   "outputs": [],
   "source": [
    "pressq = \"\"\n",
    "\n",
    "while pressq != 'q':\n",
    "    user_input = input('Enter Your Name: ')\n",
    "    f_name = input('Enter Your Father Name: ')\n",
    "    age = int(input('Enter Your Age: '))\n",
    "    city = input('Enter Your City: ')\n",
    "    country = input('Enter Your Country: ')\n",
    "    gender = input('Enter Your Gender: ')\n",
    "    cnic = int(input('Enter Your Cnic: '))\n",
    "    family_members = input('Enter Your Family Members: ')\n",
    "    pressq = input('To Exit Press q ')\n",
    "    temp_dict = {}\n",
    "    \n",
    "    temp_dict[\"Name\"] = user_input\n",
    "    temp_dict[\"Father Name\"] = f_name\n",
    "    temp_dict[\"Age\"] = age\n",
    "    temp_dict[\"City\"] = city\n",
    "    temp_dict[\"Country\"] = country\n",
    "    temp_dict[\"Gender\"] = gender\n",
    "    temp_dict[\"CNIC\"] = cnic\n",
    "    temp_dict[\"Family Members\"] = family_members\n",
    "    \n",
    "customer.append(temp_dict)    "
   ]
  },
  {
   "cell_type": "code",
   "execution_count": 38,
   "id": "e9a800ef",
   "metadata": {},
   "outputs": [
    {
     "data": {
      "text/plain": [
       "[{'Name': 'Haris',\n",
       "  'Father Name': 'Khurram',\n",
       "  'Age': 16,\n",
       "  'City': 'Karachi',\n",
       "  'Country': 'PAK',\n",
       "  'Gender': 'male',\n",
       "  'CNIC': 0,\n",
       "  'Family Members': '4'},\n",
       " {'Name': 'Uzair',\n",
       "  'Father Name': 'Affan',\n",
       "  'Age': 123456789,\n",
       "  'City': 'karachiu',\n",
       "  'Country': 'poakistan',\n",
       "  'Gender': 'm',\n",
       "  'CNIC': 87518425798417,\n",
       "  'Family Members': '5'},\n",
       " {'Name': 'sohaib',\n",
       "  'Father Name': 'faisal',\n",
       "  'Age': 12,\n",
       "  'City': 'karachi',\n",
       "  'Country': 'PAK',\n",
       "  'Gender': 'm',\n",
       "  'CNIC': 0,\n",
       "  'Family Members': '8'},\n",
       " {'Name': 'Hashir',\n",
       "  'Father Name': 'mustafa',\n",
       "  'Age': 17,\n",
       "  'City': 'Lahore',\n",
       "  'Country': 'PAK',\n",
       "  'Gender': 'M',\n",
       "  'CNIC': 0,\n",
       "  'Family Members': '4'},\n",
       " {'Name': 'Shaheer',\n",
       "  'Father Name': 'saif',\n",
       "  'Age': 15,\n",
       "  'City': 'Karachi',\n",
       "  'Country': 'PAK',\n",
       "  'Gender': 'M',\n",
       "  'CNIC': 0,\n",
       "  'Family Members': '5'}]"
      ]
     },
     "execution_count": 38,
     "metadata": {},
     "output_type": "execute_result"
    }
   ],
   "source": [
    "customer"
   ]
  },
  {
   "cell_type": "code",
   "execution_count": null,
   "id": "57f61099",
   "metadata": {},
   "outputs": [],
   "source": [
    "customer"
   ]
  },
  {
   "cell_type": "code",
   "execution_count": null,
   "id": "1dae09d3",
   "metadata": {},
   "outputs": [],
   "source": [
    "temp_dict"
   ]
  },
  {
   "cell_type": "code",
   "execution_count": null,
   "id": "339ef696",
   "metadata": {},
   "outputs": [],
   "source": []
  },
  {
   "cell_type": "code",
   "execution_count": null,
   "id": "841466f1",
   "metadata": {},
   "outputs": [],
   "source": []
  }
 ],
 "metadata": {
  "kernelspec": {
   "display_name": "Python 3",
   "language": "python",
   "name": "python3"
  },
  "language_info": {
   "codemirror_mode": {
    "name": "ipython",
    "version": 3
   },
   "file_extension": ".py",
   "mimetype": "text/x-python",
   "name": "python",
   "nbconvert_exporter": "python",
   "pygments_lexer": "ipython3",
   "version": "3.8.8"
  }
 },
 "nbformat": 4,
 "nbformat_minor": 5
}
