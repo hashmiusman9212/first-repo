{
 "cells": [
  {
   "cell_type": "code",
   "execution_count": 16,
   "id": "b180a825",
   "metadata": {},
   "outputs": [],
   "source": [
    "#csv files\n",
    "import csv"
   ]
  },
  {
   "cell_type": "code",
   "execution_count": 24,
   "id": "e06bff82",
   "metadata": {
    "scrolled": true
   },
   "outputs": [
    {
     "name": "stderr",
     "output_type": "stream",
     "text": [
      "ERROR: Could not find a version that satisfies the requirement csv\n",
      "ERROR: No matching distribution found for csv\n"
     ]
    }
   ],
   "source": [
    "!pip install csv"
   ]
  },
  {
   "cell_type": "code",
   "execution_count": 23,
   "id": "a6dd8ba6",
   "metadata": {},
   "outputs": [
    {
     "name": "stdout",
     "output_type": "stream",
     "text": [
      "enter name usmna\n",
      "enter age 15\n",
      "enter class 10\n",
      "press q to exit\n",
      "enter name affan\n",
      "enter age 13\n",
      "enter class 8\n",
      "press q to exitma\n",
      "enter name mannan\n",
      "enter age 10\n",
      "enter class 5\n",
      "press q to exitq\n"
     ]
    }
   ],
   "source": [
    "continued=''\n",
    "with open('student.csv','a') as f:\n",
    "    data_writer=csv.writer(f,delimiter=',')\n",
    "    data_writer.writerow(['name','age','studentclass'])    \n",
    "while continued != 'q':\n",
    "    name=input('enter name ')\n",
    "    age=input('enter age ')\n",
    "    studentclass=input('enter class ')\n",
    "    with open('student.csv','a') as f:\n",
    "        data_writer=csv.writer(f,delimiter=',')\n",
    "        data_writer.writerow([name,age,studentclass])\n",
    "    continued=input('press q to exit')    "
   ]
  },
  {
   "cell_type": "code",
   "execution_count": 17,
   "id": "a734355c",
   "metadata": {},
   "outputs": [
    {
     "name": "stdout",
     "output_type": "stream",
     "text": [
      "Enter Student Name : usman\n",
      "Enter Student Father Name : uzair\n",
      "Enter Student Age : 15\n",
      "Enter Student Class : 10\n",
      "Press a to continue or q to exit\n",
      "Enter Student Name : affan\n",
      "Enter Student Father Name : uzair\n",
      "Enter Student Age : 13\n",
      "Enter Student Class : 8\n",
      "Press a to continue or q to exitq\n"
     ]
    }
   ],
   "source": [
    "continued = \"\"\n",
    "with open(\"students.csv\",\"a\") as f:\n",
    "    data_writer = csv.writer(f,delimiter = \",\")\n",
    "    data_writer.writerow(['Name', 'Father Name', 'Age', 'Class'])\n",
    "while continued != 'q':\n",
    "    s_name = input(\"Enter Student Name : \")\n",
    "    s_f_name = input(\"Enter Student Father Name : \")\n",
    "    s_age = input(\"Enter Student Age : \")\n",
    "    s_class = input(\"Enter Student Class : \")\n",
    "    with open(\"students.csv\",\"a\") as f:\n",
    "        data_writer = csv.writer(f,delimiter = \",\")\n",
    "        data_writer.writerow([s_name, s_f_name, s_age, s_class])\n",
    "    continued = input(\"Press a to continue or q to exit\")"
   ]
  },
  {
   "cell_type": "code",
   "execution_count": 27,
   "id": "8bbacf3e",
   "metadata": {},
   "outputs": [],
   "source": [
    "data=[]\n",
    "with open('students.csv')as f:\n",
    "    data_reader=csv.reader(f)\n",
    "    for i in data_reader:\n",
    "        for j in i:\n",
    "            if(j=='uzair'):\n",
    "                with open('students.csv','w') as f:\n",
    "                    data_writer=csv.writer(f,delimiter=',')\n",
    "                    data_writer.writerow(['usman','uzair','15','10'])"
   ]
  },
  {
   "cell_type": "code",
   "execution_count": 28,
   "id": "659b698f",
   "metadata": {},
   "outputs": [
    {
     "name": "stderr",
     "output_type": "stream",
     "text": [
      "ERROR: Could not find a version that satisfies the requirement json\n",
      "ERROR: No matching distribution found for json\n"
     ]
    }
   ],
   "source": [
    "!pip install json"
   ]
  },
  {
   "cell_type": "code",
   "execution_count": 29,
   "id": "a2d59f7f",
   "metadata": {},
   "outputs": [],
   "source": [
    "import json"
   ]
  },
  {
   "cell_type": "code",
   "execution_count": 30,
   "id": "b7732143",
   "metadata": {},
   "outputs": [],
   "source": [
    "#json files\n",
    "user_data={\n",
    "    'username':'usman',\n",
    "    'userage':'15',\n",
    "    'email':'hashmiusman9212'\n",
    "}\n",
    "with open('users.json','w') as f:\n",
    "    json.dump(user_data,f)"
   ]
  },
  {
   "cell_type": "code",
   "execution_count": 31,
   "id": "e1689826",
   "metadata": {},
   "outputs": [
    {
     "name": "stdout",
     "output_type": "stream",
     "text": [
      "{'username': 'usman', 'userage': '15', 'email': 'hashmiusman9212'}\n"
     ]
    }
   ],
   "source": [
    "with open('users.json','r') as f:\n",
    "    user_data_r=json.load(f)\n",
    "    print(user_data_r)"
   ]
  },
  {
   "cell_type": "code",
   "execution_count": null,
   "id": "390754ab",
   "metadata": {},
   "outputs": [],
   "source": []
  }
 ],
 "metadata": {
  "kernelspec": {
   "display_name": "Python 3",
   "language": "python",
   "name": "python3"
  },
  "language_info": {
   "codemirror_mode": {
    "name": "ipython",
    "version": 3
   },
   "file_extension": ".py",
   "mimetype": "text/x-python",
   "name": "python",
   "nbconvert_exporter": "python",
   "pygments_lexer": "ipython3",
   "version": "3.8.8"
  }
 },
 "nbformat": 4,
 "nbformat_minor": 5
}
