{
 "cells": [
  {
   "cell_type": "code",
   "execution_count": 7,
   "id": "8cf33892",
   "metadata": {},
   "outputs": [],
   "source": [
    "def error():\n",
    "    print('invalid email')"
   ]
  },
  {
   "cell_type": "code",
   "execution_count": 8,
   "id": "adc2d70f",
   "metadata": {},
   "outputs": [
    {
     "name": "stdout",
     "output_type": "stream",
     "text": [
      "invalid email\n"
     ]
    }
   ],
   "source": [
    "error()"
   ]
  },
  {
   "cell_type": "code",
   "execution_count": 37,
   "id": "45020b17",
   "metadata": {},
   "outputs": [],
   "source": [
    "def add():\n",
    "    x=int(input('x: '))\n",
    "    y=int(input('y: '))\n",
    "    print(x+y)\n",
    "    "
   ]
  },
  {
   "cell_type": "code",
   "execution_count": 38,
   "id": "1e89e630",
   "metadata": {},
   "outputs": [
    {
     "name": "stdout",
     "output_type": "stream",
     "text": [
      "x: 8\n",
      "y: 9\n",
      "17\n"
     ]
    }
   ],
   "source": [
    "add()"
   ]
  },
  {
   "cell_type": "code",
   "execution_count": 34,
   "id": "3e77abe4",
   "metadata": {},
   "outputs": [],
   "source": [
    "def bodmas(v,w,x,y,z):\n",
    "    print(v*w/x+y-z)"
   ]
  },
  {
   "cell_type": "code",
   "execution_count": 36,
   "id": "20662e9a",
   "metadata": {},
   "outputs": [
    {
     "name": "stdout",
     "output_type": "stream",
     "text": [
      "15.333333333333336\n"
     ]
    }
   ],
   "source": [
    "bodmas(10,8,6,4,2)"
   ]
  },
  {
   "cell_type": "code",
   "execution_count": 55,
   "id": "9dd36394",
   "metadata": {},
   "outputs": [],
   "source": [
    "import random "
   ]
  },
  {
   "cell_type": "code",
   "execution_count": 76,
   "id": "66c0d84f",
   "metadata": {},
   "outputs": [],
   "source": [
    "def random_num():\n",
    "    num = random.randint(0,10)\n",
    "    return num"
   ]
  },
  {
   "cell_type": "code",
   "execution_count": 77,
   "id": "a5d04156",
   "metadata": {},
   "outputs": [
    {
     "data": {
      "text/plain": [
       "9"
      ]
     },
     "execution_count": 77,
     "metadata": {},
     "output_type": "execute_result"
    }
   ],
   "source": [
    "random_num()"
   ]
  },
  {
   "cell_type": "code",
   "execution_count": 78,
   "id": "6a4db89c",
   "metadata": {},
   "outputs": [
    {
     "name": "stdout",
     "output_type": "stream",
     "text": [
      "2\n"
     ]
    }
   ],
   "source": [
    "guess_num=random_num()\n",
    "print(guess_num)"
   ]
  },
  {
   "cell_type": "code",
   "execution_count": 85,
   "id": "4d191e45",
   "metadata": {},
   "outputs": [
    {
     "name": "stdout",
     "output_type": "stream",
     "text": [
      "enter num: 2\n",
      "correct num,good\n"
     ]
    }
   ],
   "source": [
    "num=int(input('enter num: '))\n",
    "if num==guess_num:\n",
    "    print('correct num,good')\n",
    "else:\n",
    "    print(\"wrong num,stupid \")"
   ]
  },
  {
   "cell_type": "code",
   "execution_count": 93,
   "id": "880b0f8c",
   "metadata": {},
   "outputs": [],
   "source": [
    "def add(x,y):\n",
    "    res=x+y\n",
    "    return res"
   ]
  },
  {
   "cell_type": "code",
   "execution_count": 97,
   "id": "9248bcad",
   "metadata": {},
   "outputs": [
    {
     "name": "stdout",
     "output_type": "stream",
     "text": [
      "x: 6\n",
      "y: 7\n",
      "13\n"
     ]
    }
   ],
   "source": [
    "x=int(input('x: '))\n",
    "y=int(input('y: '))\n",
    "res = add(x,y)\n",
    "print(res)"
   ]
  },
  {
   "cell_type": "code",
   "execution_count": 104,
   "id": "dbdb40ac",
   "metadata": {},
   "outputs": [],
   "source": [
    "def sub(x,y):\n",
    "    res=x-y\n",
    "    return res"
   ]
  },
  {
   "cell_type": "code",
   "execution_count": 103,
   "id": "c785dc14",
   "metadata": {},
   "outputs": [
    {
     "name": "stdout",
     "output_type": "stream",
     "text": [
      "x: 9\n",
      "y: 6\n",
      "3\n"
     ]
    }
   ],
   "source": [
    "x=int(input('x: '))\n",
    "y=int(input('y: '))\n",
    "res = sub(x,y)\n",
    "print(res)"
   ]
  },
  {
   "cell_type": "code",
   "execution_count": 127,
   "id": "1aaca92e",
   "metadata": {},
   "outputs": [],
   "source": [
    "def calc_tax(total,tax_ratio=0.06):\n",
    "    res=total*tax_ratio\n",
    "    print(res+total)"
   ]
  },
  {
   "cell_type": "code",
   "execution_count": 129,
   "id": "82c910ad",
   "metadata": {},
   "outputs": [
    {
     "name": "stdout",
     "output_type": "stream",
     "text": [
      "5050.0\n"
     ]
    }
   ],
   "source": [
    "calc_tax(5000,0.01)"
   ]
  },
  {
   "cell_type": "code",
   "execution_count": null,
   "id": "732506af",
   "metadata": {},
   "outputs": [],
   "source": []
  }
 ],
 "metadata": {
  "kernelspec": {
   "display_name": "Python 3",
   "language": "python",
   "name": "python3"
  },
  "language_info": {
   "codemirror_mode": {
    "name": "ipython",
    "version": 3
   },
   "file_extension": ".py",
   "mimetype": "text/x-python",
   "name": "python",
   "nbconvert_exporter": "python",
   "pygments_lexer": "ipython3",
   "version": "3.8.8"
  }
 },
 "nbformat": 4,
 "nbformat_minor": 5
}
