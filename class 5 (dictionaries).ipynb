{
 "cells": [
  {
   "cell_type": "code",
   "execution_count": 3,
   "id": "9ea36688",
   "metadata": {},
   "outputs": [],
   "source": [
    "contact_book={\n",
    " 'usman':'03342225383',   \n",
    " 'appa':'03333113597',\n",
    " 'amma':'03323098232',   \n",
    " 'dada':'03312253835'\n",
    "}       "
   ]
  },
  {
   "cell_type": "code",
   "execution_count": 7,
   "id": "17746002",
   "metadata": {},
   "outputs": [
    {
     "name": "stdout",
     "output_type": "stream",
     "text": [
      "03342225383\n"
     ]
    }
   ],
   "source": [
    "print(contact_book['usman'])"
   ]
  },
  {
   "cell_type": "code",
   "execution_count": 11,
   "id": "6e43dc25",
   "metadata": {},
   "outputs": [],
   "source": [
    "contact_book['test']='02136647914'"
   ]
  },
  {
   "cell_type": "code",
   "execution_count": 15,
   "id": "b51bed56",
   "metadata": {},
   "outputs": [
    {
     "name": "stdout",
     "output_type": "stream",
     "text": [
      "02136647914\n"
     ]
    }
   ],
   "source": [
    "print(contact_book['test'])"
   ]
  },
  {
   "cell_type": "code",
   "execution_count": 16,
   "id": "5faebb00",
   "metadata": {},
   "outputs": [],
   "source": [
    "del contact_book['test']"
   ]
  },
  {
   "cell_type": "code",
   "execution_count": 17,
   "id": "9e3fdab3",
   "metadata": {},
   "outputs": [
    {
     "name": "stdout",
     "output_type": "stream",
     "text": [
      "{'usman': '03342225383', 'appa': '03333113597', 'amma': '03323098232', 'dada': '03312253835'}\n"
     ]
    }
   ],
   "source": [
    "print(contact_book)"
   ]
  },
  {
   "cell_type": "code",
   "execution_count": 38,
   "id": "6fe69c46",
   "metadata": {},
   "outputs": [
    {
     "name": "stdout",
     "output_type": "stream",
     "text": [
      "usman 03342225383\n",
      "appa 03333113597\n",
      "amma 03323098232\n",
      "dada 03312253835\n"
     ]
    }
   ],
   "source": [
    "for key,value in contact_book.items():\n",
    "    print(key, value)"
   ]
  },
  {
   "cell_type": "code",
   "execution_count": 89,
   "id": "baf25bbd",
   "metadata": {},
   "outputs": [],
   "source": [
    "customers=[]"
   ]
  },
  {
   "cell_type": "code",
   "execution_count": 90,
   "id": "d4638063",
   "metadata": {},
   "outputs": [
    {
     "name": "stdout",
     "output_type": "stream",
     "text": [
      "username :usman\n",
      "number :03342225383\n",
      "email :hashmiusman9212gmail.com\n"
     ]
    }
   ],
   "source": [
    "name=input('username :')\n",
    "num=input('number :')\n",
    "email=input('email :')\n",
    "temp_dict={}\n",
    "\n",
    "temp_dict['username']=name\n",
    "temp_dict['number']=num\n",
    "temp_dict['email']=email\n",
    "\n",
    "customers.append(temp_dict)"
   ]
  },
  {
   "cell_type": "code",
   "execution_count": 92,
   "id": "a5a89e7a",
   "metadata": {},
   "outputs": [
    {
     "name": "stdout",
     "output_type": "stream",
     "text": [
      "[{'username': 'usman', 'number': '03342225383', 'email': 'hashmiusman9212gmail.com'}]\n"
     ]
    }
   ],
   "source": [
    "print(customers)"
   ]
  },
  {
   "cell_type": "code",
   "execution_count": 93,
   "id": "0cfd531a",
   "metadata": {},
   "outputs": [
    {
     "data": {
      "text/plain": [
       "'03342225383'"
      ]
     },
     "execution_count": 93,
     "metadata": {},
     "output_type": "execute_result"
    }
   ],
   "source": [
    "customers[0]['number']"
   ]
  },
  {
   "cell_type": "code",
   "execution_count": 88,
   "id": "a55bd98c",
   "metadata": {},
   "outputs": [
    {
     "data": {
      "text/plain": [
       "1"
      ]
     },
     "execution_count": 88,
     "metadata": {},
     "output_type": "execute_result"
    }
   ],
   "source": [
    "len(customers)"
   ]
  },
  {
   "cell_type": "code",
   "execution_count": 101,
   "id": "e76779eb",
   "metadata": {},
   "outputs": [],
   "source": [
    "dict_customers = {}"
   ]
  },
  {
   "cell_type": "code",
   "execution_count": 110,
   "id": "2bac997a",
   "metadata": {},
   "outputs": [
    {
     "name": "stdout",
     "output_type": "stream",
     "text": [
      "username :affan\n",
      "number :03323098232\n",
      "email :affanhashmi@gmail.com\n"
     ]
    }
   ],
   "source": [
    "name=input('username :')\n",
    "num=input('number :')\n",
    "email=input('email :')\n",
    "temp_dict={}\n",
    "\n",
    "temp_dict['username']=name\n",
    "temp_dict['number']=num\n",
    "temp_dict['email']=email\n",
    "\n",
    "dict_customers[email]=temp_dict"
   ]
  },
  {
   "cell_type": "code",
   "execution_count": 111,
   "id": "d82eb0c4",
   "metadata": {
    "scrolled": true
   },
   "outputs": [
    {
     "data": {
      "text/plain": [
       "{'mannan.77@gmail.com': {'username': 'mannan',\n",
       "  'number': '03312253835',\n",
       "  'email': 'mannan.77@gmail.com'},\n",
       " 'hashmiusman9212@gmail.com': {'username': 'usman',\n",
       "  'number': '03342225383',\n",
       "  'email': 'hashmiusman9212@gmail.com'},\n",
       " 'affanhashmi@gmail.com': {'username': 'affan',\n",
       "  'number': '03323098232',\n",
       "  'email': 'affanhashmi@gmail.com'}}"
      ]
     },
     "execution_count": 111,
     "metadata": {},
     "output_type": "execute_result"
    }
   ],
   "source": [
    "dict_customers"
   ]
  },
  {
   "cell_type": "code",
   "execution_count": null,
   "id": "18fd6740",
   "metadata": {},
   "outputs": [],
   "source": []
  }
 ],
 "metadata": {
  "kernelspec": {
   "display_name": "Python 3",
   "language": "python",
   "name": "python3"
  },
  "language_info": {
   "codemirror_mode": {
    "name": "ipython",
    "version": 3
   },
   "file_extension": ".py",
   "mimetype": "text/x-python",
   "name": "python",
   "nbconvert_exporter": "python",
   "pygments_lexer": "ipython3",
   "version": "3.8.8"
  }
 },
 "nbformat": 4,
 "nbformat_minor": 5
}
