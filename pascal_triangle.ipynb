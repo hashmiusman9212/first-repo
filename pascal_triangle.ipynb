{
  "nbformat": 4,
  "nbformat_minor": 0,
  "metadata": {
    "colab": {
      "name": "pascal triangle.ipynb",
      "provenance": [],
      "authorship_tag": "ABX9TyPYyQrXPBw7QXXHvcGy3aRv",
      "include_colab_link": true
    },
    "kernelspec": {
      "display_name": "Python 3",
      "name": "python3"
    },
    "language_info": {
      "name": "python"
    }
  },
  "cells": [
    {
      "cell_type": "markdown",
      "metadata": {
        "id": "view-in-github",
        "colab_type": "text"
      },
      "source": [
        "<a href=\"https://colab.research.google.com/github/hashmiusman9212/first-repo/blob/main/pascal_triangle.ipynb\" target=\"_parent\"><img src=\"https://colab.research.google.com/assets/colab-badge.svg\" alt=\"Open In Colab\"/></a>"
      ]
    },
    {
      "cell_type": "code",
      "metadata": {
        "colab": {
          "base_uri": "https://localhost:8080/"
        },
        "id": "DTZgBqDPckvF",
        "outputId": "9240a108-d68f-4b3c-ae06-6513ccbe1746"
      },
      "source": [
        "n=int(input('enter number of lines: '))\n",
        "for n in range(1, n + 1):\n",
        "        C = 1\n",
        "        for r in range(1, n + 1):\n",
        "          print(C,end=' ')\n",
        "          C = int(C * (n - r) / r)\n",
        "        print(\"\")"
      ],
      "execution_count": 6,
      "outputs": [
        {
          "output_type": "stream",
          "text": [
            "enter number of lines: 6\n",
            "1 \n",
            "1 1 \n",
            "1 2 1 \n",
            "1 3 3 1 \n",
            "1 4 6 4 1 \n",
            "1 5 10 10 5 1 \n"
          ],
          "name": "stdout"
        }
      ]
    },
    {
      "cell_type": "code",
      "metadata": {
        "id": "708NO7M9mpWf"
      },
      "source": [
        ""
      ],
      "execution_count": null,
      "outputs": []
    }
  ]
}