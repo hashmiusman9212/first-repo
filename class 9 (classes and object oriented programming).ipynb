{
 "cells": [
  {
   "cell_type": "code",
   "execution_count": 55,
   "id": "de2da428",
   "metadata": {},
   "outputs": [],
   "source": [
    "class patient:\n",
    "    def __init__(self,first_name,age,disease):\n",
    "        self.first_name=first_name\n",
    "        self.age=age\n",
    "        self.disease=disease\n",
    "    def showdata(self):\n",
    "        print('name is',self.first_name)\n",
    "        print('age is',self.age)\n",
    "        print('disease is',self.disease)"
   ]
  },
  {
   "cell_type": "code",
   "execution_count": 60,
   "id": "c40bec5b",
   "metadata": {},
   "outputs": [],
   "source": [
    "patient_1=patient('usman','15','none')\n",
    "patient_2=patient('affan','12','mental disorder')\n",
    "patient_3=patient('mannan','9','mental disorder')"
   ]
  },
  {
   "cell_type": "code",
   "execution_count": 61,
   "id": "c862fe05",
   "metadata": {},
   "outputs": [
    {
     "name": "stdout",
     "output_type": "stream",
     "text": [
      "name is usman\n",
      "age is 15\n",
      "disease is none\n",
      "name is affan\n",
      "age is 12\n",
      "disease is mental disorder\n",
      "name is mannan\n",
      "age is 9\n",
      "disease is mental disorder\n"
     ]
    }
   ],
   "source": [
    "patient_1.showdata()\n",
    "patient_2.showdata()\n",
    "patient_3.showdata()"
   ]
  },
  {
   "cell_type": "code",
   "execution_count": 68,
   "id": "671ec0a8",
   "metadata": {},
   "outputs": [],
   "source": [
    "class patient:\n",
    "    def __init__(self,first_name,last_name,age,cnic,phone,disease,treatment,doctor):\n",
    "        self.first_name=first_name\n",
    "        self.last_name=last_name\n",
    "        self.age=age\n",
    "        self.cnic=cnic\n",
    "        self.phone=phone\n",
    "        self.disease=disease\n",
    "        self.treatment=treatment\n",
    "        self.doctor=doctor\n",
    "        \n",
    "    def showfirst_name(self):\n",
    "        print('first name is',self.first_name)\n",
    "    def showlast_name(self):\n",
    "        print('last name is',self.last_name)\n",
    "    def showage(self):\n",
    "        print('age is',self.age)\n",
    "    def showcnic(self):\n",
    "        print('cnic is',self.cnic)\n",
    "    def showphone(self):\n",
    "        print('phone is',self.phone)\n",
    "    def showdisease(self):\n",
    "        print('disease is',self.disease)\n",
    "    def showtreatment(self):\n",
    "        print('treatment is',self.treatment)\n",
    "    def showdoctor(self):\n",
    "        print('doctor is',self.doctor)    "
   ]
  },
  {
   "cell_type": "code",
   "execution_count": 69,
   "id": "cac55f60",
   "metadata": {},
   "outputs": [],
   "source": [
    "patient_1=patient('affan','mota','12','none','none','mental disorder','100 slaps per day','dr.usman')"
   ]
  },
  {
   "cell_type": "code",
   "execution_count": 70,
   "id": "9a489035",
   "metadata": {},
   "outputs": [
    {
     "name": "stdout",
     "output_type": "stream",
     "text": [
      "first name is affan\n",
      "last name is mota\n",
      "age is 12\n",
      "cnic is none\n",
      "phone is none\n",
      "disease is mental disorder\n",
      "treatment is 100 slaps per day\n",
      "doctor is dr.usman\n"
     ]
    }
   ],
   "source": [
    "patient_1.showfirst_name()\n",
    "patient_1.showlast_name()\n",
    "patient_1.showage()\n",
    "patient_1.showcnic()\n",
    "patient_1.showphone()\n",
    "patient_1.showdisease()\n",
    "patient_1.showtreatment()\n",
    "patient_1.showdoctor()"
   ]
  },
  {
   "cell_type": "code",
   "execution_count": 71,
   "id": "c710a5bc",
   "metadata": {},
   "outputs": [],
   "source": [
    "class patient:\n",
    "    def __init__(self,first_name,last_name,age,cnic,phone,disease,treatment,doctor):\n",
    "        self.first_name=first_name\n",
    "        self.last_name=last_name\n",
    "        self.age=age\n",
    "        self.cnic=cnic\n",
    "        self.phone=phone\n",
    "        self.disease=disease\n",
    "        self.treatment=treatment\n",
    "        self.doctor=doctor\n",
    "        \n",
    "    def showall_data(self):\n",
    "        print('first name is',self.first_name)\n",
    "        print('last name is',self.last_name)\n",
    "        print('age is',self.age)\n",
    "        print('cnic is',self.cnic)\n",
    "        print('phone is',self.phone)\n",
    "        print('disease is',self.disease)\n",
    "        print('treatment is',self.treatment)\n",
    "        print('doctor is',self.doctor)            "
   ]
  },
  {
   "cell_type": "code",
   "execution_count": 72,
   "id": "2426bcae",
   "metadata": {},
   "outputs": [],
   "source": [
    "patient_1=patient('affan','mota','12','none','none','mental disorder','100 slaps per day','dr.usman')"
   ]
  },
  {
   "cell_type": "code",
   "execution_count": 74,
   "id": "455893c4",
   "metadata": {
    "scrolled": true
   },
   "outputs": [
    {
     "name": "stdout",
     "output_type": "stream",
     "text": [
      "first name is affan\n",
      "last name is mota\n",
      "age is 12\n",
      "cnic is none\n",
      "phone is none\n",
      "disease is mental disorder\n",
      "treatment is 100 slaps per day\n",
      "doctor is dr.usman\n"
     ]
    }
   ],
   "source": [
    "patient_1.showall_data()"
   ]
  },
  {
   "cell_type": "code",
   "execution_count": null,
   "id": "539dae93",
   "metadata": {},
   "outputs": [],
   "source": []
  }
 ],
 "metadata": {
  "kernelspec": {
   "display_name": "Python 3",
   "language": "python",
   "name": "python3"
  },
  "language_info": {
   "codemirror_mode": {
    "name": "ipython",
    "version": 3
   },
   "file_extension": ".py",
   "mimetype": "text/x-python",
   "name": "python",
   "nbconvert_exporter": "python",
   "pygments_lexer": "ipython3",
   "version": "3.8.8"
  }
 },
 "nbformat": 4,
 "nbformat_minor": 5
}
