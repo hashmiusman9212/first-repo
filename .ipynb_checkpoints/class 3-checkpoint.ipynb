{
 "cells": [
  {
   "cell_type": "code",
   "execution_count": 125,
   "id": "073b148c",
   "metadata": {},
   "outputs": [
    {
     "name": "stdout",
     "output_type": "stream",
     "text": [
      "You can ride\n"
     ]
    }
   ],
   "source": [
    "Height=5.8\n",
    "Weight=90\n",
    "Age=15\n",
    "if ((Height > 1) or (Weight > 20) or (Age > 5)) or (Age < 70):\n",
    "    print(\"You can ride\")\n",
    "else: \n",
    "    print(\"Too small, too young or too old\")\n"
   ]
  },
  {
   "cell_type": "code",
   "execution_count": 50,
   "id": "e6a0746c",
   "metadata": {},
   "outputs": [
    {
     "name": "stdout",
     "output_type": "stream",
     "text": [
      "beacause of quetta lahore is out of PSL\n"
     ]
    }
   ],
   "source": [
    "cities=['karachi','lahore','quetta','peshawar','multan','islamabad','larkana','kashmir']\n",
    "print('beacause of',(cities[2]),(cities[1]),'is out of PSL')\n"
   ]
  },
  {
   "cell_type": "code",
   "execution_count": 57,
   "id": "59b38f38",
   "metadata": {},
   "outputs": [
    {
     "name": "stdout",
     "output_type": "stream",
     "text": [
      "kashmir larkana\n"
     ]
    }
   ],
   "source": [
    "print(cities[7],cities[6])"
   ]
  },
  {
   "cell_type": "code",
   "execution_count": 61,
   "id": "c02a8f6f",
   "metadata": {},
   "outputs": [],
   "source": [
    "all_cities=cities+['hyderabad','sukkur','nawabshah','azadkaskmir','sialkot','gawadar']"
   ]
  },
  {
   "cell_type": "code",
   "execution_count": 62,
   "id": "32792927",
   "metadata": {},
   "outputs": [
    {
     "name": "stdout",
     "output_type": "stream",
     "text": [
      "['karachi', 'lahore', 'quetta', 'peshawar', 'multan', 'islamabad', 'larkana', 'kashmir', 'hyderabad', 'sukkur', 'nawabshah', 'azadkaskmir', 'sialkot', 'gawadar']\n"
     ]
    }
   ],
   "source": [
    "print(all_cities)\n"
   ]
  },
  {
   "cell_type": "code",
   "execution_count": 63,
   "id": "9d1f21cb",
   "metadata": {},
   "outputs": [],
   "source": [
    "all_cities.insert(3,'rawalpindi')"
   ]
  },
  {
   "cell_type": "code",
   "execution_count": 64,
   "id": "82cadaec",
   "metadata": {},
   "outputs": [
    {
     "name": "stdout",
     "output_type": "stream",
     "text": [
      "['karachi', 'lahore', 'quetta', 'rawalpindi', 'peshawar', 'multan', 'islamabad', 'larkana', 'kashmir', 'hyderabad', 'sukkur', 'nawabshah', 'azadkaskmir', 'sialkot', 'gawadar']\n"
     ]
    }
   ],
   "source": [
    "print(all_cities)"
   ]
  },
  {
   "cell_type": "code",
   "execution_count": 66,
   "id": "3e0a68ff",
   "metadata": {},
   "outputs": [],
   "source": [
    "all_cities.insert(6,'faislabad')\n",
    "all_cities.insert(6,'sahiwal')\n",
    "all_cities.insert(13,'mardan')"
   ]
  },
  {
   "cell_type": "code",
   "execution_count": 67,
   "id": "d3a188ac",
   "metadata": {},
   "outputs": [
    {
     "name": "stdout",
     "output_type": "stream",
     "text": [
      "['karachi', 'lahore', 'quetta', 'rawalpindi', 'peshawar', 'multan', 'sahiwal', 'faislabad', 'islamabad', 'larkana', 'kashmir', 'hyderabad', 'sukkur', 'mardan', 'nawabshah', 'azadkaskmir', 'sialkot', 'gawadar']\n"
     ]
    }
   ],
   "source": [
    "print(all_cities)"
   ]
  },
  {
   "cell_type": "code",
   "execution_count": 69,
   "id": "027e61a8",
   "metadata": {},
   "outputs": [
    {
     "name": "stdout",
     "output_type": "stream",
     "text": [
      "['quetta', 'lahore', 'karachi', 'rawalpindi', 'peshawar', 'multan', 'sahiwal', 'faislabad', 'islamabad', 'larkana', 'kashmir', 'hyderabad', 'sukkur', 'mardan', 'nawabshah', 'azadkaskmir', 'sialkot', 'gawadar']\n"
     ]
    }
   ],
   "source": [
    "all_cities[0]='quetta'\n",
    "all_cities[2]='karachi'\n",
    "print(all_cities)"
   ]
  },
  {
   "cell_type": "code",
   "execution_count": 73,
   "id": "793c97a5",
   "metadata": {},
   "outputs": [
    {
     "name": "stdout",
     "output_type": "stream",
     "text": [
      "['quetta', 'islamabad', 'karachi', 'rawalpindi', 'peshawar', 'multan', 'sahiwal', 'faislabad', 'lahore', 'larkana', 'kashmir', 'hyderabad', 'sukkur', 'mardan', 'nawabshah', 'azadkaskmir', 'sialkot', 'gawadar']\n"
     ]
    }
   ],
   "source": [
    "all_cities[8]='lahore'\n",
    "all_cities[1]='islamabad'\n",
    "print(all_cities)"
   ]
  },
  {
   "cell_type": "code",
   "execution_count": 74,
   "id": "7847d40d",
   "metadata": {},
   "outputs": [
    {
     "name": "stdout",
     "output_type": "stream",
     "text": [
      "['islamabad', 'quetta', 'karachi', 'rawalpindi', 'peshawar', 'multan', 'sahiwal', 'faislabad', 'lahore', 'larkana', 'kashmir', 'hyderabad', 'sukkur', 'mardan', 'nawabshah', 'azadkaskmir', 'sialkot', 'gawadar']\n"
     ]
    }
   ],
   "source": [
    "temp_cities=all_cities[0]\n",
    "all_cities[0]=all_cities[1]\n",
    "all_cities[1]=temp_cities\n",
    "print(all_cities)\n"
   ]
  },
  {
   "cell_type": "code",
   "execution_count": 113,
   "id": "20c494aa",
   "metadata": {},
   "outputs": [
    {
     "name": "stdout",
     "output_type": "stream",
     "text": [
      "['islamabad', 'quetta', 'karachi', 'rawalpindi', 'peshawar', 'multan', 'sahiwal', 'faislabad', 'lahore', 'larkana', 'kashmir', 'hyderabad', 'sukkur', 'mardan', 'nawabshah', 'azadkaskmir']\n"
     ]
    }
   ],
   "source": [
    "print(all_cities)"
   ]
  },
  {
   "cell_type": "code",
   "execution_count": null,
   "id": "5e9596e9",
   "metadata": {},
   "outputs": [],
   "source": [
    "print(all_cities[::-6])"
   ]
  },
  {
   "cell_type": "code",
   "execution_count": 110,
   "id": "12249813",
   "metadata": {},
   "outputs": [],
   "source": [
    "del (all_cities[16])"
   ]
  },
  {
   "cell_type": "code",
   "execution_count": 112,
   "id": "9c99b377",
   "metadata": {},
   "outputs": [
    {
     "name": "stdout",
     "output_type": "stream",
     "text": [
      "['islamabad', 'quetta', 'karachi', 'rawalpindi', 'peshawar', 'multan', 'sahiwal', 'faislabad', 'lahore', 'larkana', 'kashmir', 'hyderabad', 'sukkur', 'mardan', 'nawabshah', 'azadkaskmir']\n"
     ]
    }
   ],
   "source": [
    "print(all_cities)"
   ]
  },
  {
   "cell_type": "code",
   "execution_count": 120,
   "id": "32e8366a",
   "metadata": {},
   "outputs": [],
   "source": [
    "all_cities.append(all_cities.pop(0))"
   ]
  },
  {
   "cell_type": "code",
   "execution_count": 121,
   "id": "9ae7475d",
   "metadata": {},
   "outputs": [
    {
     "name": "stdout",
     "output_type": "stream",
     "text": [
      "['quetta', 'karachi', 'rawalpindi', 'peshawar', 'multan', 'sahiwal', 'faislabad', 'lahore', 'larkana', 'kashmir', 'hyderabad', 'sukkur', 'mardan', 'nawabshah', 'azadkaskmir', 'islamabad']\n"
     ]
    }
   ],
   "source": [
    "print(all_cities)"
   ]
  },
  {
   "cell_type": "code",
   "execution_count": 132,
   "id": "986247e1",
   "metadata": {},
   "outputs": [
    {
     "name": "stdout",
     "output_type": "stream",
     "text": [
      "<class 'tuple'>\n"
     ]
    }
   ],
   "source": [
    "t1=('q','w','e','r','t','y')\n",
    "print(type(t1))"
   ]
  },
  {
   "cell_type": "code",
   "execution_count": null,
   "id": "b95d5780",
   "metadata": {},
   "outputs": [],
   "source": []
  }
 ],
 "metadata": {
  "kernelspec": {
   "display_name": "Python 3",
   "language": "python",
   "name": "python3"
  },
  "language_info": {
   "codemirror_mode": {
    "name": "ipython",
    "version": 3
   },
   "file_extension": ".py",
   "mimetype": "text/x-python",
   "name": "python",
   "nbconvert_exporter": "python",
   "pygments_lexer": "ipython3",
   "version": "3.8.8"
  }
 },
 "nbformat": 4,
 "nbformat_minor": 5
}
