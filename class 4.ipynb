{
 "cells": [
  {
   "cell_type": "code",
   "execution_count": 24,
   "id": "c58d7407",
   "metadata": {
    "scrolled": true
   },
   "outputs": [
    {
     "name": "stdout",
     "output_type": "stream",
     "text": [
      "loser\n",
      "loser\n",
      "loser\n",
      "loser\n",
      "winner\n",
      "loser\n"
     ]
    }
   ],
   "source": [
    "for temp_city in psl_cities:\n",
    "    if (temp_city == city):\n",
    "        print('winner')\n",
    "    else:\n",
    "        print('loser')"
   ]
  },
  {
   "cell_type": "code",
   "execution_count": 18,
   "id": "6abf1869",
   "metadata": {},
   "outputs": [],
   "source": [
    "psl_cities=['karachi','quetta','islamabad','peshawar','multan','lahore']\n",
    "city='multan'\n"
   ]
  },
  {
   "cell_type": "code",
   "execution_count": 21,
   "id": "1e48671a",
   "metadata": {},
   "outputs": [
    {
     "name": "stdout",
     "output_type": "stream",
     "text": [
      "karachi\n",
      "quetta\n",
      "islamabad\n",
      "peshawar\n",
      "multan\n",
      "lahore\n"
     ]
    }
   ],
   "source": [
    "for i in psl_cities:\n",
    "    print(i)"
   ]
  },
  {
   "cell_type": "code",
   "execution_count": 25,
   "id": "9259bc6f",
   "metadata": {},
   "outputs": [
    {
     "data": {
      "text/plain": [
       "'lahore'"
      ]
     },
     "execution_count": 25,
     "metadata": {},
     "output_type": "execute_result"
    }
   ],
   "source": [
    "temp_city"
   ]
  },
  {
   "cell_type": "code",
   "execution_count": 49,
   "id": "3ab1ebbc",
   "metadata": {},
   "outputs": [
    {
     "name": "stdout",
     "output_type": "stream",
     "text": [
      "eid mubarak\n",
      "eid mubarak\n",
      "eid mubarak\n",
      "eid mubarak\n",
      "eid mubarak\n",
      "eid mubarak\n",
      "eid mubarak\n",
      "eid mubarak\n",
      "eid mubarak\n",
      "eid mubarak\n"
     ]
    }
   ],
   "source": [
    "for i in range(10):\n",
    "    print('eid mubarak')"
   ]
  },
  {
   "cell_type": "code",
   "execution_count": 56,
   "id": "9c1dbe1d",
   "metadata": {},
   "outputs": [],
   "source": [
    "first_name = ['blueray','upchuck','lojack','gizmo','dorag']\n",
    "last_name = [\"zzz\", \"burp\", \"dogbone\", \"droop\"]"
   ]
  },
  {
   "cell_type": "code",
   "execution_count": 79,
   "id": "cc89dd51",
   "metadata": {},
   "outputs": [
    {
     "name": "stdout",
     "output_type": "stream",
     "text": [
      "blueray zzz\n",
      "blueray burp\n",
      "blueray dogbone\n",
      "blueray droop\n",
      "upchuck zzz\n",
      "upchuck burp\n",
      "upchuck dogbone\n",
      "upchuck droop\n",
      "lojack zzz\n",
      "lojack burp\n",
      "lojack dogbone\n",
      "lojack droop\n",
      "gizmo zzz\n",
      "gizmo burp\n",
      "gizmo dogbone\n",
      "gizmo droop\n",
      "dorag zzz\n",
      "dorag burp\n",
      "dorag dogbone\n",
      "dorag droop\n"
     ]
    }
   ],
   "source": [
    "for f_name in first_name:\n",
    "        for l_name in last_name:\n",
    "            print(f_name,l_name)"
   ]
  },
  {
   "cell_type": "code",
   "execution_count": 102,
   "id": "bdbf2c4c",
   "metadata": {
    "scrolled": true
   },
   "outputs": [
    {
     "name": "stdout",
     "output_type": "stream",
     "text": [
      "enter num1: 2\n",
      "enter num2: 2\n",
      "4\n"
     ]
    }
   ],
   "source": [
    "x = int(input('enter num1: '))\n",
    "y = int(input('enter num2: '))\n",
    "print(x + y)"
   ]
  },
  {
   "cell_type": "code",
   "execution_count": 122,
   "id": "9b166a51",
   "metadata": {
    "scrolled": true
   },
   "outputs": [
    {
     "name": "stdout",
     "output_type": "stream",
     "text": [
      "enter city: karachi\n",
      "you are a part of psl 6\n",
      "you are not a part of psl 6\n",
      "you are not a part of psl 6\n",
      "you are not a part of psl 6\n",
      "you are not a part of psl 6\n",
      "you are not a part of psl 6\n"
     ]
    }
   ],
   "source": [
    "psl_cities=['karachi','quetta','islamabad','peshawar','multan','lahore']\n",
    "uc=input('enter city: ')\n",
    "for city in psl_cities:\n",
    "    if(uc == city):\n",
    "        print('you are a part of psl 6')\n",
    "    else:\n",
    "        print('you are not a part of psl 6')"
   ]
  },
  {
   "cell_type": "code",
   "execution_count": null,
   "id": "4bd2690e",
   "metadata": {},
   "outputs": [],
   "source": []
  }
 ],
 "metadata": {
  "kernelspec": {
   "display_name": "Python 3",
   "language": "python",
   "name": "python3"
  },
  "language_info": {
   "codemirror_mode": {
    "name": "ipython",
    "version": 3
   },
   "file_extension": ".py",
   "mimetype": "text/x-python",
   "name": "python",
   "nbconvert_exporter": "python",
   "pygments_lexer": "ipython3",
   "version": "3.8.8"
  }
 },
 "nbformat": 4,
 "nbformat_minor": 5
}
