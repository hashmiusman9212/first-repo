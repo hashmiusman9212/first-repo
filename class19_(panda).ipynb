{
  "nbformat": 4,
  "nbformat_minor": 0,
  "metadata": {
    "colab": {
      "name": "class19 (panda).ipynb",
      "provenance": [],
      "authorship_tag": "ABX9TyOZkWsV73kRb8ywuZ8CXn4a",
      "include_colab_link": true
    },
    "kernelspec": {
      "name": "python3",
      "display_name": "Python 3"
    },
    "language_info": {
      "name": "python"
    }
  },
  "cells": [
    {
      "cell_type": "markdown",
      "metadata": {
        "id": "view-in-github",
        "colab_type": "text"
      },
      "source": [
        "<a href=\"https://colab.research.google.com/github/hashmiusman9212/first-repo/blob/main/class19_(panda).ipynb\" target=\"_parent\"><img src=\"https://colab.research.google.com/assets/colab-badge.svg\" alt=\"Open In Colab\"/></a>"
      ]
    },
    {
      "cell_type": "code",
      "metadata": {
        "id": "R9ozcvct_b7Q"
      },
      "source": [
        "import pandas as pd\n",
        "import numpy as np"
      ],
      "execution_count": 2,
      "outputs": []
    },
    {
      "cell_type": "code",
      "metadata": {
        "id": "Ek-8dxzSBCmY"
      },
      "source": [
        "data = pd.read_excel('SampleData.xlsx')"
      ],
      "execution_count": 5,
      "outputs": []
    },
    {
      "cell_type": "code",
      "metadata": {
        "colab": {
          "base_uri": "https://localhost:8080/",
          "height": 1000
        },
        "id": "L5opIh0zB1No",
        "outputId": "6769651b-8f67-453e-e181-62bf767cd0ac"
      },
      "source": [
        "data"
      ],
      "execution_count": 6,
      "outputs": [
        {
          "output_type": "execute_result",
          "data": {
            "text/html": [
              "<div>\n",
              "<style scoped>\n",
              "    .dataframe tbody tr th:only-of-type {\n",
              "        vertical-align: middle;\n",
              "    }\n",
              "\n",
              "    .dataframe tbody tr th {\n",
              "        vertical-align: top;\n",
              "    }\n",
              "\n",
              "    .dataframe thead th {\n",
              "        text-align: right;\n",
              "    }\n",
              "</style>\n",
              "<table border=\"1\" class=\"dataframe\">\n",
              "  <thead>\n",
              "    <tr style=\"text-align: right;\">\n",
              "      <th></th>\n",
              "      <th>OrderDate</th>\n",
              "      <th>Region</th>\n",
              "      <th>Rep</th>\n",
              "      <th>Item</th>\n",
              "      <th>Units</th>\n",
              "      <th>Unit Cost</th>\n",
              "      <th>Total</th>\n",
              "    </tr>\n",
              "  </thead>\n",
              "  <tbody>\n",
              "    <tr>\n",
              "      <th>0</th>\n",
              "      <td>2019-01-06</td>\n",
              "      <td>East</td>\n",
              "      <td>Jones</td>\n",
              "      <td>Pencil</td>\n",
              "      <td>95</td>\n",
              "      <td>1.99</td>\n",
              "      <td>189.05</td>\n",
              "    </tr>\n",
              "    <tr>\n",
              "      <th>1</th>\n",
              "      <td>2019-01-23</td>\n",
              "      <td>Central</td>\n",
              "      <td>Kivell</td>\n",
              "      <td>Binder</td>\n",
              "      <td>50</td>\n",
              "      <td>19.99</td>\n",
              "      <td>999.50</td>\n",
              "    </tr>\n",
              "    <tr>\n",
              "      <th>2</th>\n",
              "      <td>2019-02-09</td>\n",
              "      <td>Central</td>\n",
              "      <td>Jardine</td>\n",
              "      <td>Pencil</td>\n",
              "      <td>36</td>\n",
              "      <td>4.99</td>\n",
              "      <td>179.64</td>\n",
              "    </tr>\n",
              "    <tr>\n",
              "      <th>3</th>\n",
              "      <td>2019-02-26</td>\n",
              "      <td>Central</td>\n",
              "      <td>Gill</td>\n",
              "      <td>Pen</td>\n",
              "      <td>27</td>\n",
              "      <td>19.99</td>\n",
              "      <td>539.73</td>\n",
              "    </tr>\n",
              "    <tr>\n",
              "      <th>4</th>\n",
              "      <td>2019-03-15</td>\n",
              "      <td>West</td>\n",
              "      <td>Sorvino</td>\n",
              "      <td>Pencil</td>\n",
              "      <td>56</td>\n",
              "      <td>2.99</td>\n",
              "      <td>167.44</td>\n",
              "    </tr>\n",
              "    <tr>\n",
              "      <th>5</th>\n",
              "      <td>2019-04-01</td>\n",
              "      <td>East</td>\n",
              "      <td>Jones</td>\n",
              "      <td>Binder</td>\n",
              "      <td>60</td>\n",
              "      <td>4.99</td>\n",
              "      <td>299.40</td>\n",
              "    </tr>\n",
              "    <tr>\n",
              "      <th>6</th>\n",
              "      <td>2019-04-18</td>\n",
              "      <td>Central</td>\n",
              "      <td>Andrews</td>\n",
              "      <td>Pencil</td>\n",
              "      <td>75</td>\n",
              "      <td>1.99</td>\n",
              "      <td>149.25</td>\n",
              "    </tr>\n",
              "    <tr>\n",
              "      <th>7</th>\n",
              "      <td>2019-05-05</td>\n",
              "      <td>Central</td>\n",
              "      <td>Jardine</td>\n",
              "      <td>Pencil</td>\n",
              "      <td>90</td>\n",
              "      <td>4.99</td>\n",
              "      <td>449.10</td>\n",
              "    </tr>\n",
              "    <tr>\n",
              "      <th>8</th>\n",
              "      <td>2019-05-22</td>\n",
              "      <td>West</td>\n",
              "      <td>Thompson</td>\n",
              "      <td>Pencil</td>\n",
              "      <td>32</td>\n",
              "      <td>1.99</td>\n",
              "      <td>63.68</td>\n",
              "    </tr>\n",
              "    <tr>\n",
              "      <th>9</th>\n",
              "      <td>2019-06-08</td>\n",
              "      <td>East</td>\n",
              "      <td>Jones</td>\n",
              "      <td>Binder</td>\n",
              "      <td>60</td>\n",
              "      <td>8.99</td>\n",
              "      <td>539.40</td>\n",
              "    </tr>\n",
              "    <tr>\n",
              "      <th>10</th>\n",
              "      <td>2019-06-25</td>\n",
              "      <td>Central</td>\n",
              "      <td>Morgan</td>\n",
              "      <td>Pencil</td>\n",
              "      <td>90</td>\n",
              "      <td>4.99</td>\n",
              "      <td>449.10</td>\n",
              "    </tr>\n",
              "    <tr>\n",
              "      <th>11</th>\n",
              "      <td>2019-07-12</td>\n",
              "      <td>East</td>\n",
              "      <td>Howard</td>\n",
              "      <td>Binder</td>\n",
              "      <td>29</td>\n",
              "      <td>1.99</td>\n",
              "      <td>57.71</td>\n",
              "    </tr>\n",
              "    <tr>\n",
              "      <th>12</th>\n",
              "      <td>2019-07-29</td>\n",
              "      <td>East</td>\n",
              "      <td>Parent</td>\n",
              "      <td>Binder</td>\n",
              "      <td>81</td>\n",
              "      <td>19.99</td>\n",
              "      <td>1619.19</td>\n",
              "    </tr>\n",
              "    <tr>\n",
              "      <th>13</th>\n",
              "      <td>2019-08-15</td>\n",
              "      <td>East</td>\n",
              "      <td>Jones</td>\n",
              "      <td>Pencil</td>\n",
              "      <td>35</td>\n",
              "      <td>4.99</td>\n",
              "      <td>174.65</td>\n",
              "    </tr>\n",
              "    <tr>\n",
              "      <th>14</th>\n",
              "      <td>2019-09-01</td>\n",
              "      <td>Central</td>\n",
              "      <td>Smith</td>\n",
              "      <td>Desk</td>\n",
              "      <td>2</td>\n",
              "      <td>125.00</td>\n",
              "      <td>250.00</td>\n",
              "    </tr>\n",
              "    <tr>\n",
              "      <th>15</th>\n",
              "      <td>2019-09-18</td>\n",
              "      <td>East</td>\n",
              "      <td>Jones</td>\n",
              "      <td>Pen Set</td>\n",
              "      <td>16</td>\n",
              "      <td>15.99</td>\n",
              "      <td>255.84</td>\n",
              "    </tr>\n",
              "    <tr>\n",
              "      <th>16</th>\n",
              "      <td>2019-10-05</td>\n",
              "      <td>Central</td>\n",
              "      <td>Morgan</td>\n",
              "      <td>Binder</td>\n",
              "      <td>28</td>\n",
              "      <td>8.99</td>\n",
              "      <td>251.72</td>\n",
              "    </tr>\n",
              "    <tr>\n",
              "      <th>17</th>\n",
              "      <td>2019-10-22</td>\n",
              "      <td>East</td>\n",
              "      <td>Jones</td>\n",
              "      <td>Pen</td>\n",
              "      <td>64</td>\n",
              "      <td>8.99</td>\n",
              "      <td>575.36</td>\n",
              "    </tr>\n",
              "    <tr>\n",
              "      <th>18</th>\n",
              "      <td>2019-11-08</td>\n",
              "      <td>East</td>\n",
              "      <td>Parent</td>\n",
              "      <td>Pen</td>\n",
              "      <td>15</td>\n",
              "      <td>19.99</td>\n",
              "      <td>299.85</td>\n",
              "    </tr>\n",
              "    <tr>\n",
              "      <th>19</th>\n",
              "      <td>2019-11-25</td>\n",
              "      <td>Central</td>\n",
              "      <td>Kivell</td>\n",
              "      <td>Pen Set</td>\n",
              "      <td>96</td>\n",
              "      <td>4.99</td>\n",
              "      <td>479.04</td>\n",
              "    </tr>\n",
              "    <tr>\n",
              "      <th>20</th>\n",
              "      <td>2019-12-12</td>\n",
              "      <td>Central</td>\n",
              "      <td>Smith</td>\n",
              "      <td>Pencil</td>\n",
              "      <td>67</td>\n",
              "      <td>1.29</td>\n",
              "      <td>86.43</td>\n",
              "    </tr>\n",
              "    <tr>\n",
              "      <th>21</th>\n",
              "      <td>2019-12-29</td>\n",
              "      <td>East</td>\n",
              "      <td>Parent</td>\n",
              "      <td>Pen Set</td>\n",
              "      <td>74</td>\n",
              "      <td>15.99</td>\n",
              "      <td>1183.26</td>\n",
              "    </tr>\n",
              "    <tr>\n",
              "      <th>22</th>\n",
              "      <td>2020-01-15</td>\n",
              "      <td>Central</td>\n",
              "      <td>Gill</td>\n",
              "      <td>Binder</td>\n",
              "      <td>46</td>\n",
              "      <td>8.99</td>\n",
              "      <td>413.54</td>\n",
              "    </tr>\n",
              "    <tr>\n",
              "      <th>23</th>\n",
              "      <td>2020-02-01</td>\n",
              "      <td>Central</td>\n",
              "      <td>Smith</td>\n",
              "      <td>Binder</td>\n",
              "      <td>87</td>\n",
              "      <td>15.00</td>\n",
              "      <td>1305.00</td>\n",
              "    </tr>\n",
              "    <tr>\n",
              "      <th>24</th>\n",
              "      <td>2020-02-18</td>\n",
              "      <td>East</td>\n",
              "      <td>Jones</td>\n",
              "      <td>Binder</td>\n",
              "      <td>4</td>\n",
              "      <td>4.99</td>\n",
              "      <td>19.96</td>\n",
              "    </tr>\n",
              "    <tr>\n",
              "      <th>25</th>\n",
              "      <td>2020-03-07</td>\n",
              "      <td>West</td>\n",
              "      <td>Sorvino</td>\n",
              "      <td>Binder</td>\n",
              "      <td>7</td>\n",
              "      <td>19.99</td>\n",
              "      <td>139.93</td>\n",
              "    </tr>\n",
              "    <tr>\n",
              "      <th>26</th>\n",
              "      <td>2020-03-24</td>\n",
              "      <td>Central</td>\n",
              "      <td>Jardine</td>\n",
              "      <td>Pen Set</td>\n",
              "      <td>50</td>\n",
              "      <td>4.99</td>\n",
              "      <td>249.50</td>\n",
              "    </tr>\n",
              "    <tr>\n",
              "      <th>27</th>\n",
              "      <td>2020-04-10</td>\n",
              "      <td>Central</td>\n",
              "      <td>Andrews</td>\n",
              "      <td>Pencil</td>\n",
              "      <td>66</td>\n",
              "      <td>1.99</td>\n",
              "      <td>131.34</td>\n",
              "    </tr>\n",
              "    <tr>\n",
              "      <th>28</th>\n",
              "      <td>2020-04-27</td>\n",
              "      <td>East</td>\n",
              "      <td>Howard</td>\n",
              "      <td>Pen</td>\n",
              "      <td>96</td>\n",
              "      <td>4.99</td>\n",
              "      <td>479.04</td>\n",
              "    </tr>\n",
              "    <tr>\n",
              "      <th>29</th>\n",
              "      <td>2020-05-14</td>\n",
              "      <td>Central</td>\n",
              "      <td>Gill</td>\n",
              "      <td>Pencil</td>\n",
              "      <td>53</td>\n",
              "      <td>1.29</td>\n",
              "      <td>68.37</td>\n",
              "    </tr>\n",
              "    <tr>\n",
              "      <th>30</th>\n",
              "      <td>2020-05-31</td>\n",
              "      <td>Central</td>\n",
              "      <td>Gill</td>\n",
              "      <td>Binder</td>\n",
              "      <td>80</td>\n",
              "      <td>8.99</td>\n",
              "      <td>719.20</td>\n",
              "    </tr>\n",
              "    <tr>\n",
              "      <th>31</th>\n",
              "      <td>2020-06-17</td>\n",
              "      <td>Central</td>\n",
              "      <td>Kivell</td>\n",
              "      <td>Desk</td>\n",
              "      <td>5</td>\n",
              "      <td>125.00</td>\n",
              "      <td>625.00</td>\n",
              "    </tr>\n",
              "    <tr>\n",
              "      <th>32</th>\n",
              "      <td>2020-07-04</td>\n",
              "      <td>East</td>\n",
              "      <td>Jones</td>\n",
              "      <td>Pen Set</td>\n",
              "      <td>62</td>\n",
              "      <td>4.99</td>\n",
              "      <td>309.38</td>\n",
              "    </tr>\n",
              "    <tr>\n",
              "      <th>33</th>\n",
              "      <td>2020-07-21</td>\n",
              "      <td>Central</td>\n",
              "      <td>Morgan</td>\n",
              "      <td>Pen Set</td>\n",
              "      <td>55</td>\n",
              "      <td>12.49</td>\n",
              "      <td>686.95</td>\n",
              "    </tr>\n",
              "    <tr>\n",
              "      <th>34</th>\n",
              "      <td>2020-08-07</td>\n",
              "      <td>Central</td>\n",
              "      <td>Kivell</td>\n",
              "      <td>Pen Set</td>\n",
              "      <td>42</td>\n",
              "      <td>23.95</td>\n",
              "      <td>1005.90</td>\n",
              "    </tr>\n",
              "    <tr>\n",
              "      <th>35</th>\n",
              "      <td>2020-08-24</td>\n",
              "      <td>West</td>\n",
              "      <td>Sorvino</td>\n",
              "      <td>Desk</td>\n",
              "      <td>3</td>\n",
              "      <td>275.00</td>\n",
              "      <td>825.00</td>\n",
              "    </tr>\n",
              "    <tr>\n",
              "      <th>36</th>\n",
              "      <td>2020-09-10</td>\n",
              "      <td>Central</td>\n",
              "      <td>Gill</td>\n",
              "      <td>Pencil</td>\n",
              "      <td>7</td>\n",
              "      <td>1.29</td>\n",
              "      <td>9.03</td>\n",
              "    </tr>\n",
              "    <tr>\n",
              "      <th>37</th>\n",
              "      <td>2020-09-27</td>\n",
              "      <td>West</td>\n",
              "      <td>Sorvino</td>\n",
              "      <td>Pen</td>\n",
              "      <td>76</td>\n",
              "      <td>1.99</td>\n",
              "      <td>151.24</td>\n",
              "    </tr>\n",
              "    <tr>\n",
              "      <th>38</th>\n",
              "      <td>2020-10-14</td>\n",
              "      <td>West</td>\n",
              "      <td>Thompson</td>\n",
              "      <td>Binder</td>\n",
              "      <td>57</td>\n",
              "      <td>19.99</td>\n",
              "      <td>1139.43</td>\n",
              "    </tr>\n",
              "    <tr>\n",
              "      <th>39</th>\n",
              "      <td>2020-10-31</td>\n",
              "      <td>Central</td>\n",
              "      <td>Andrews</td>\n",
              "      <td>Pencil</td>\n",
              "      <td>14</td>\n",
              "      <td>1.29</td>\n",
              "      <td>18.06</td>\n",
              "    </tr>\n",
              "    <tr>\n",
              "      <th>40</th>\n",
              "      <td>2020-11-17</td>\n",
              "      <td>Central</td>\n",
              "      <td>Jardine</td>\n",
              "      <td>Binder</td>\n",
              "      <td>11</td>\n",
              "      <td>4.99</td>\n",
              "      <td>54.89</td>\n",
              "    </tr>\n",
              "    <tr>\n",
              "      <th>41</th>\n",
              "      <td>2020-12-04</td>\n",
              "      <td>Central</td>\n",
              "      <td>Jardine</td>\n",
              "      <td>Binder</td>\n",
              "      <td>94</td>\n",
              "      <td>19.99</td>\n",
              "      <td>1879.06</td>\n",
              "    </tr>\n",
              "    <tr>\n",
              "      <th>42</th>\n",
              "      <td>2020-12-21</td>\n",
              "      <td>Central</td>\n",
              "      <td>Andrews</td>\n",
              "      <td>Binder</td>\n",
              "      <td>28</td>\n",
              "      <td>4.99</td>\n",
              "      <td>139.72</td>\n",
              "    </tr>\n",
              "  </tbody>\n",
              "</table>\n",
              "</div>"
            ],
            "text/plain": [
              "    OrderDate   Region       Rep     Item  Units  Unit Cost    Total\n",
              "0  2019-01-06     East     Jones   Pencil     95       1.99   189.05\n",
              "1  2019-01-23  Central    Kivell   Binder     50      19.99   999.50\n",
              "2  2019-02-09  Central   Jardine   Pencil     36       4.99   179.64\n",
              "3  2019-02-26  Central      Gill      Pen     27      19.99   539.73\n",
              "4  2019-03-15     West   Sorvino   Pencil     56       2.99   167.44\n",
              "5  2019-04-01     East     Jones   Binder     60       4.99   299.40\n",
              "6  2019-04-18  Central   Andrews   Pencil     75       1.99   149.25\n",
              "7  2019-05-05  Central   Jardine   Pencil     90       4.99   449.10\n",
              "8  2019-05-22     West  Thompson   Pencil     32       1.99    63.68\n",
              "9  2019-06-08     East     Jones   Binder     60       8.99   539.40\n",
              "10 2019-06-25  Central    Morgan   Pencil     90       4.99   449.10\n",
              "11 2019-07-12     East    Howard   Binder     29       1.99    57.71\n",
              "12 2019-07-29     East    Parent   Binder     81      19.99  1619.19\n",
              "13 2019-08-15     East     Jones   Pencil     35       4.99   174.65\n",
              "14 2019-09-01  Central     Smith     Desk      2     125.00   250.00\n",
              "15 2019-09-18     East     Jones  Pen Set     16      15.99   255.84\n",
              "16 2019-10-05  Central    Morgan   Binder     28       8.99   251.72\n",
              "17 2019-10-22     East     Jones      Pen     64       8.99   575.36\n",
              "18 2019-11-08     East    Parent      Pen     15      19.99   299.85\n",
              "19 2019-11-25  Central    Kivell  Pen Set     96       4.99   479.04\n",
              "20 2019-12-12  Central     Smith   Pencil     67       1.29    86.43\n",
              "21 2019-12-29     East    Parent  Pen Set     74      15.99  1183.26\n",
              "22 2020-01-15  Central      Gill   Binder     46       8.99   413.54\n",
              "23 2020-02-01  Central     Smith   Binder     87      15.00  1305.00\n",
              "24 2020-02-18     East     Jones   Binder      4       4.99    19.96\n",
              "25 2020-03-07     West   Sorvino   Binder      7      19.99   139.93\n",
              "26 2020-03-24  Central   Jardine  Pen Set     50       4.99   249.50\n",
              "27 2020-04-10  Central   Andrews   Pencil     66       1.99   131.34\n",
              "28 2020-04-27     East    Howard      Pen     96       4.99   479.04\n",
              "29 2020-05-14  Central      Gill   Pencil     53       1.29    68.37\n",
              "30 2020-05-31  Central      Gill   Binder     80       8.99   719.20\n",
              "31 2020-06-17  Central    Kivell     Desk      5     125.00   625.00\n",
              "32 2020-07-04     East     Jones  Pen Set     62       4.99   309.38\n",
              "33 2020-07-21  Central    Morgan  Pen Set     55      12.49   686.95\n",
              "34 2020-08-07  Central    Kivell  Pen Set     42      23.95  1005.90\n",
              "35 2020-08-24     West   Sorvino     Desk      3     275.00   825.00\n",
              "36 2020-09-10  Central      Gill   Pencil      7       1.29     9.03\n",
              "37 2020-09-27     West   Sorvino      Pen     76       1.99   151.24\n",
              "38 2020-10-14     West  Thompson   Binder     57      19.99  1139.43\n",
              "39 2020-10-31  Central   Andrews   Pencil     14       1.29    18.06\n",
              "40 2020-11-17  Central   Jardine   Binder     11       4.99    54.89\n",
              "41 2020-12-04  Central   Jardine   Binder     94      19.99  1879.06\n",
              "42 2020-12-21  Central   Andrews   Binder     28       4.99   139.72"
            ]
          },
          "metadata": {},
          "execution_count": 6
        }
      ]
    },
    {
      "cell_type": "code",
      "metadata": {
        "colab": {
          "base_uri": "https://localhost:8080/"
        },
        "id": "E9OQkro7B2s4",
        "outputId": "9ed133c2-65d9-4f31-f716-a2b4fd4bb6e2"
      },
      "source": [
        "jones_items['Item'].unique()"
      ],
      "execution_count": 16,
      "outputs": [
        {
          "output_type": "execute_result",
          "data": {
            "text/plain": [
              "array(['Pencil', 'Binder', 'Pen Set', 'Pen'], dtype=object)"
            ]
          },
          "metadata": {},
          "execution_count": 16
        }
      ]
    },
    {
      "cell_type": "code",
      "metadata": {
        "id": "s5uB3L0UC9di"
      },
      "source": [
        "jones_items = data[data['Rep'] == 'Jones']"
      ],
      "execution_count": 13,
      "outputs": []
    },
    {
      "cell_type": "code",
      "metadata": {
        "colab": {
          "base_uri": "https://localhost:8080/",
          "height": 300
        },
        "id": "M51pydhkD3Oe",
        "outputId": "533f2dc6-3194-4d43-d1fe-252b3f0ea48a"
      },
      "source": [
        "jones_items"
      ],
      "execution_count": 14,
      "outputs": [
        {
          "output_type": "execute_result",
          "data": {
            "text/html": [
              "<div>\n",
              "<style scoped>\n",
              "    .dataframe tbody tr th:only-of-type {\n",
              "        vertical-align: middle;\n",
              "    }\n",
              "\n",
              "    .dataframe tbody tr th {\n",
              "        vertical-align: top;\n",
              "    }\n",
              "\n",
              "    .dataframe thead th {\n",
              "        text-align: right;\n",
              "    }\n",
              "</style>\n",
              "<table border=\"1\" class=\"dataframe\">\n",
              "  <thead>\n",
              "    <tr style=\"text-align: right;\">\n",
              "      <th></th>\n",
              "      <th>OrderDate</th>\n",
              "      <th>Region</th>\n",
              "      <th>Rep</th>\n",
              "      <th>Item</th>\n",
              "      <th>Units</th>\n",
              "      <th>Unit Cost</th>\n",
              "      <th>Total</th>\n",
              "    </tr>\n",
              "  </thead>\n",
              "  <tbody>\n",
              "    <tr>\n",
              "      <th>0</th>\n",
              "      <td>2019-01-06</td>\n",
              "      <td>East</td>\n",
              "      <td>Jones</td>\n",
              "      <td>Pencil</td>\n",
              "      <td>95</td>\n",
              "      <td>1.99</td>\n",
              "      <td>189.05</td>\n",
              "    </tr>\n",
              "    <tr>\n",
              "      <th>5</th>\n",
              "      <td>2019-04-01</td>\n",
              "      <td>East</td>\n",
              "      <td>Jones</td>\n",
              "      <td>Binder</td>\n",
              "      <td>60</td>\n",
              "      <td>4.99</td>\n",
              "      <td>299.40</td>\n",
              "    </tr>\n",
              "    <tr>\n",
              "      <th>9</th>\n",
              "      <td>2019-06-08</td>\n",
              "      <td>East</td>\n",
              "      <td>Jones</td>\n",
              "      <td>Binder</td>\n",
              "      <td>60</td>\n",
              "      <td>8.99</td>\n",
              "      <td>539.40</td>\n",
              "    </tr>\n",
              "    <tr>\n",
              "      <th>13</th>\n",
              "      <td>2019-08-15</td>\n",
              "      <td>East</td>\n",
              "      <td>Jones</td>\n",
              "      <td>Pencil</td>\n",
              "      <td>35</td>\n",
              "      <td>4.99</td>\n",
              "      <td>174.65</td>\n",
              "    </tr>\n",
              "    <tr>\n",
              "      <th>15</th>\n",
              "      <td>2019-09-18</td>\n",
              "      <td>East</td>\n",
              "      <td>Jones</td>\n",
              "      <td>Pen Set</td>\n",
              "      <td>16</td>\n",
              "      <td>15.99</td>\n",
              "      <td>255.84</td>\n",
              "    </tr>\n",
              "    <tr>\n",
              "      <th>17</th>\n",
              "      <td>2019-10-22</td>\n",
              "      <td>East</td>\n",
              "      <td>Jones</td>\n",
              "      <td>Pen</td>\n",
              "      <td>64</td>\n",
              "      <td>8.99</td>\n",
              "      <td>575.36</td>\n",
              "    </tr>\n",
              "    <tr>\n",
              "      <th>24</th>\n",
              "      <td>2020-02-18</td>\n",
              "      <td>East</td>\n",
              "      <td>Jones</td>\n",
              "      <td>Binder</td>\n",
              "      <td>4</td>\n",
              "      <td>4.99</td>\n",
              "      <td>19.96</td>\n",
              "    </tr>\n",
              "    <tr>\n",
              "      <th>32</th>\n",
              "      <td>2020-07-04</td>\n",
              "      <td>East</td>\n",
              "      <td>Jones</td>\n",
              "      <td>Pen Set</td>\n",
              "      <td>62</td>\n",
              "      <td>4.99</td>\n",
              "      <td>309.38</td>\n",
              "    </tr>\n",
              "  </tbody>\n",
              "</table>\n",
              "</div>"
            ],
            "text/plain": [
              "    OrderDate Region    Rep     Item  Units  Unit Cost   Total\n",
              "0  2019-01-06   East  Jones   Pencil     95       1.99  189.05\n",
              "5  2019-04-01   East  Jones   Binder     60       4.99  299.40\n",
              "9  2019-06-08   East  Jones   Binder     60       8.99  539.40\n",
              "13 2019-08-15   East  Jones   Pencil     35       4.99  174.65\n",
              "15 2019-09-18   East  Jones  Pen Set     16      15.99  255.84\n",
              "17 2019-10-22   East  Jones      Pen     64       8.99  575.36\n",
              "24 2020-02-18   East  Jones   Binder      4       4.99   19.96\n",
              "32 2020-07-04   East  Jones  Pen Set     62       4.99  309.38"
            ]
          },
          "metadata": {},
          "execution_count": 14
        }
      ]
    },
    {
      "cell_type": "code",
      "metadata": {
        "id": "mzb_ret5EKVD"
      },
      "source": [
        "total = data['Total']"
      ],
      "execution_count": 21,
      "outputs": []
    },
    {
      "cell_type": "code",
      "metadata": {
        "colab": {
          "base_uri": "https://localhost:8080/"
        },
        "id": "bJuNnFi-D-D6",
        "outputId": "08aa261a-e959-49bf-d495-497b71a53ae8"
      },
      "source": [
        "add = 0\n",
        "for i in total:\n",
        "  print(i)\n",
        "  add = add + i"
      ],
      "execution_count": 25,
      "outputs": [
        {
          "output_type": "stream",
          "name": "stdout",
          "text": [
            "189.05\n",
            "999.4999999999999\n",
            "179.64000000000001\n",
            "539.7299999999999\n",
            "167.44\n",
            "299.40000000000003\n",
            "149.25\n",
            "449.1\n",
            "63.68\n",
            "539.4\n",
            "449.1\n",
            "57.71\n",
            "1619.1899999999998\n",
            "174.65\n",
            "250.0\n",
            "255.84\n",
            "251.72\n",
            "575.36\n",
            "299.84999999999997\n",
            "479.04\n",
            "86.43\n",
            "1183.26\n",
            "413.54\n",
            "1305.0\n",
            "19.96\n",
            "139.92999999999998\n",
            "249.5\n",
            "131.34\n",
            "479.04\n",
            "68.37\n",
            "719.2\n",
            "625.0\n",
            "309.38\n",
            "686.95\n",
            "1005.9\n",
            "825.0\n",
            "9.030000000000001\n",
            "151.24\n",
            "1139.4299999999998\n",
            "18.060000000000002\n",
            "54.89\n",
            "1879.06\n",
            "139.72\n"
          ]
        }
      ]
    },
    {
      "cell_type": "code",
      "metadata": {
        "colab": {
          "base_uri": "https://localhost:8080/"
        },
        "id": "x6klHwWiEVNL",
        "outputId": "90d8484b-f817-4e7f-9337-1aae54379041"
      },
      "source": [
        "add"
      ],
      "execution_count": 26,
      "outputs": [
        {
          "output_type": "execute_result",
          "data": {
            "text/plain": [
              "19627.88000000001"
            ]
          },
          "metadata": {},
          "execution_count": 26
        }
      ]
    },
    {
      "cell_type": "code",
      "metadata": {
        "colab": {
          "base_uri": "https://localhost:8080/"
        },
        "id": "xkbgL2n4En50",
        "outputId": "359d6ede-2068-448a-e374-e3bf2d8a7cc1"
      },
      "source": [
        "data['Total'].sum()"
      ],
      "execution_count": 27,
      "outputs": [
        {
          "output_type": "execute_result",
          "data": {
            "text/plain": [
              "19627.88"
            ]
          },
          "metadata": {},
          "execution_count": 27
        }
      ]
    },
    {
      "cell_type": "code",
      "metadata": {
        "colab": {
          "base_uri": "https://localhost:8080/"
        },
        "id": "IQVUTHWCEz8n",
        "outputId": "0f2340fa-d1c7-4dad-b80a-8ee6ec5db0fd"
      },
      "source": [
        "data.sum()"
      ],
      "execution_count": 28,
      "outputs": [
        {
          "output_type": "execute_result",
          "data": {
            "text/plain": [
              "Region       EastCentralCentralCentralWestEastCentralCentra...\n",
              "Rep          JonesKivellJardineGillSorvinoJonesAndrewsJardi...\n",
              "Item         PencilBinderPencilPenPencilBinderPencilPencilP...\n",
              "Units                                                     2121\n",
              "Unit Cost                                               873.27\n",
              "Total                                                  19627.9\n",
              "dtype: object"
            ]
          },
          "metadata": {},
          "execution_count": 28
        }
      ]
    },
    {
      "cell_type": "code",
      "metadata": {
        "id": "UXP6QwRGFArD"
      },
      "source": [
        "east_rep = data[data['Region'] == 'East']"
      ],
      "execution_count": 31,
      "outputs": []
    },
    {
      "cell_type": "code",
      "metadata": {
        "colab": {
          "base_uri": "https://localhost:8080/",
          "height": 457
        },
        "id": "u8gu4BV8FtMD",
        "outputId": "8434dd83-4be6-42fb-e643-17d14f933a58"
      },
      "source": [
        "east_rep"
      ],
      "execution_count": 35,
      "outputs": [
        {
          "output_type": "execute_result",
          "data": {
            "text/html": [
              "<div>\n",
              "<style scoped>\n",
              "    .dataframe tbody tr th:only-of-type {\n",
              "        vertical-align: middle;\n",
              "    }\n",
              "\n",
              "    .dataframe tbody tr th {\n",
              "        vertical-align: top;\n",
              "    }\n",
              "\n",
              "    .dataframe thead th {\n",
              "        text-align: right;\n",
              "    }\n",
              "</style>\n",
              "<table border=\"1\" class=\"dataframe\">\n",
              "  <thead>\n",
              "    <tr style=\"text-align: right;\">\n",
              "      <th></th>\n",
              "      <th>OrderDate</th>\n",
              "      <th>Region</th>\n",
              "      <th>Rep</th>\n",
              "      <th>Item</th>\n",
              "      <th>Units</th>\n",
              "      <th>Unit Cost</th>\n",
              "      <th>Total</th>\n",
              "    </tr>\n",
              "  </thead>\n",
              "  <tbody>\n",
              "    <tr>\n",
              "      <th>0</th>\n",
              "      <td>2019-01-06</td>\n",
              "      <td>East</td>\n",
              "      <td>Jones</td>\n",
              "      <td>Pencil</td>\n",
              "      <td>95</td>\n",
              "      <td>1.99</td>\n",
              "      <td>189.05</td>\n",
              "    </tr>\n",
              "    <tr>\n",
              "      <th>5</th>\n",
              "      <td>2019-04-01</td>\n",
              "      <td>East</td>\n",
              "      <td>Jones</td>\n",
              "      <td>Binder</td>\n",
              "      <td>60</td>\n",
              "      <td>4.99</td>\n",
              "      <td>299.40</td>\n",
              "    </tr>\n",
              "    <tr>\n",
              "      <th>9</th>\n",
              "      <td>2019-06-08</td>\n",
              "      <td>East</td>\n",
              "      <td>Jones</td>\n",
              "      <td>Binder</td>\n",
              "      <td>60</td>\n",
              "      <td>8.99</td>\n",
              "      <td>539.40</td>\n",
              "    </tr>\n",
              "    <tr>\n",
              "      <th>11</th>\n",
              "      <td>2019-07-12</td>\n",
              "      <td>East</td>\n",
              "      <td>Howard</td>\n",
              "      <td>Binder</td>\n",
              "      <td>29</td>\n",
              "      <td>1.99</td>\n",
              "      <td>57.71</td>\n",
              "    </tr>\n",
              "    <tr>\n",
              "      <th>12</th>\n",
              "      <td>2019-07-29</td>\n",
              "      <td>East</td>\n",
              "      <td>Parent</td>\n",
              "      <td>Binder</td>\n",
              "      <td>81</td>\n",
              "      <td>19.99</td>\n",
              "      <td>1619.19</td>\n",
              "    </tr>\n",
              "    <tr>\n",
              "      <th>13</th>\n",
              "      <td>2019-08-15</td>\n",
              "      <td>East</td>\n",
              "      <td>Jones</td>\n",
              "      <td>Pencil</td>\n",
              "      <td>35</td>\n",
              "      <td>4.99</td>\n",
              "      <td>174.65</td>\n",
              "    </tr>\n",
              "    <tr>\n",
              "      <th>15</th>\n",
              "      <td>2019-09-18</td>\n",
              "      <td>East</td>\n",
              "      <td>Jones</td>\n",
              "      <td>Pen Set</td>\n",
              "      <td>16</td>\n",
              "      <td>15.99</td>\n",
              "      <td>255.84</td>\n",
              "    </tr>\n",
              "    <tr>\n",
              "      <th>17</th>\n",
              "      <td>2019-10-22</td>\n",
              "      <td>East</td>\n",
              "      <td>Jones</td>\n",
              "      <td>Pen</td>\n",
              "      <td>64</td>\n",
              "      <td>8.99</td>\n",
              "      <td>575.36</td>\n",
              "    </tr>\n",
              "    <tr>\n",
              "      <th>18</th>\n",
              "      <td>2019-11-08</td>\n",
              "      <td>East</td>\n",
              "      <td>Parent</td>\n",
              "      <td>Pen</td>\n",
              "      <td>15</td>\n",
              "      <td>19.99</td>\n",
              "      <td>299.85</td>\n",
              "    </tr>\n",
              "    <tr>\n",
              "      <th>21</th>\n",
              "      <td>2019-12-29</td>\n",
              "      <td>East</td>\n",
              "      <td>Parent</td>\n",
              "      <td>Pen Set</td>\n",
              "      <td>74</td>\n",
              "      <td>15.99</td>\n",
              "      <td>1183.26</td>\n",
              "    </tr>\n",
              "    <tr>\n",
              "      <th>24</th>\n",
              "      <td>2020-02-18</td>\n",
              "      <td>East</td>\n",
              "      <td>Jones</td>\n",
              "      <td>Binder</td>\n",
              "      <td>4</td>\n",
              "      <td>4.99</td>\n",
              "      <td>19.96</td>\n",
              "    </tr>\n",
              "    <tr>\n",
              "      <th>28</th>\n",
              "      <td>2020-04-27</td>\n",
              "      <td>East</td>\n",
              "      <td>Howard</td>\n",
              "      <td>Pen</td>\n",
              "      <td>96</td>\n",
              "      <td>4.99</td>\n",
              "      <td>479.04</td>\n",
              "    </tr>\n",
              "    <tr>\n",
              "      <th>32</th>\n",
              "      <td>2020-07-04</td>\n",
              "      <td>East</td>\n",
              "      <td>Jones</td>\n",
              "      <td>Pen Set</td>\n",
              "      <td>62</td>\n",
              "      <td>4.99</td>\n",
              "      <td>309.38</td>\n",
              "    </tr>\n",
              "  </tbody>\n",
              "</table>\n",
              "</div>"
            ],
            "text/plain": [
              "    OrderDate Region     Rep     Item  Units  Unit Cost    Total\n",
              "0  2019-01-06   East   Jones   Pencil     95       1.99   189.05\n",
              "5  2019-04-01   East   Jones   Binder     60       4.99   299.40\n",
              "9  2019-06-08   East   Jones   Binder     60       8.99   539.40\n",
              "11 2019-07-12   East  Howard   Binder     29       1.99    57.71\n",
              "12 2019-07-29   East  Parent   Binder     81      19.99  1619.19\n",
              "13 2019-08-15   East   Jones   Pencil     35       4.99   174.65\n",
              "15 2019-09-18   East   Jones  Pen Set     16      15.99   255.84\n",
              "17 2019-10-22   East   Jones      Pen     64       8.99   575.36\n",
              "18 2019-11-08   East  Parent      Pen     15      19.99   299.85\n",
              "21 2019-12-29   East  Parent  Pen Set     74      15.99  1183.26\n",
              "24 2020-02-18   East   Jones   Binder      4       4.99    19.96\n",
              "28 2020-04-27   East  Howard      Pen     96       4.99   479.04\n",
              "32 2020-07-04   East   Jones  Pen Set     62       4.99   309.38"
            ]
          },
          "metadata": {},
          "execution_count": 35
        }
      ]
    },
    {
      "cell_type": "code",
      "metadata": {
        "colab": {
          "base_uri": "https://localhost:8080/"
        },
        "id": "ldNS8BkbF9gn",
        "outputId": "91d49555-ce95-48cc-c4c6-2402ec714fd6"
      },
      "source": [
        "east_rep['Rep'].unique()"
      ],
      "execution_count": 36,
      "outputs": [
        {
          "output_type": "execute_result",
          "data": {
            "text/plain": [
              "array(['Jones', 'Howard', 'Parent'], dtype=object)"
            ]
          },
          "metadata": {},
          "execution_count": 36
        }
      ]
    },
    {
      "cell_type": "code",
      "metadata": {
        "colab": {
          "base_uri": "https://localhost:8080/"
        },
        "id": "AO0yXMqlGW3y",
        "outputId": "7e40f430-b315-411b-edd4-54274ab4521c"
      },
      "source": [
        "data[data['Region'] == 'East']['Rep'].unique()"
      ],
      "execution_count": 40,
      "outputs": [
        {
          "output_type": "execute_result",
          "data": {
            "text/plain": [
              "array(['Jones', 'Howard', 'Parent'], dtype=object)"
            ]
          },
          "metadata": {},
          "execution_count": 40
        }
      ]
    },
    {
      "cell_type": "code",
      "metadata": {
        "colab": {
          "base_uri": "https://localhost:8080/",
          "height": 300
        },
        "id": "FGJjrZ2WGxef",
        "outputId": "bd54831f-fe52-442e-e34e-6b8653ffe353"
      },
      "source": [
        "data[data['Rep'] == 'Jones']"
      ],
      "execution_count": 42,
      "outputs": [
        {
          "output_type": "execute_result",
          "data": {
            "text/html": [
              "<div>\n",
              "<style scoped>\n",
              "    .dataframe tbody tr th:only-of-type {\n",
              "        vertical-align: middle;\n",
              "    }\n",
              "\n",
              "    .dataframe tbody tr th {\n",
              "        vertical-align: top;\n",
              "    }\n",
              "\n",
              "    .dataframe thead th {\n",
              "        text-align: right;\n",
              "    }\n",
              "</style>\n",
              "<table border=\"1\" class=\"dataframe\">\n",
              "  <thead>\n",
              "    <tr style=\"text-align: right;\">\n",
              "      <th></th>\n",
              "      <th>OrderDate</th>\n",
              "      <th>Region</th>\n",
              "      <th>Rep</th>\n",
              "      <th>Item</th>\n",
              "      <th>Units</th>\n",
              "      <th>Unit Cost</th>\n",
              "      <th>Total</th>\n",
              "    </tr>\n",
              "  </thead>\n",
              "  <tbody>\n",
              "    <tr>\n",
              "      <th>0</th>\n",
              "      <td>2019-01-06</td>\n",
              "      <td>East</td>\n",
              "      <td>Jones</td>\n",
              "      <td>Pencil</td>\n",
              "      <td>95</td>\n",
              "      <td>1.99</td>\n",
              "      <td>189.05</td>\n",
              "    </tr>\n",
              "    <tr>\n",
              "      <th>5</th>\n",
              "      <td>2019-04-01</td>\n",
              "      <td>East</td>\n",
              "      <td>Jones</td>\n",
              "      <td>Binder</td>\n",
              "      <td>60</td>\n",
              "      <td>4.99</td>\n",
              "      <td>299.40</td>\n",
              "    </tr>\n",
              "    <tr>\n",
              "      <th>9</th>\n",
              "      <td>2019-06-08</td>\n",
              "      <td>East</td>\n",
              "      <td>Jones</td>\n",
              "      <td>Binder</td>\n",
              "      <td>60</td>\n",
              "      <td>8.99</td>\n",
              "      <td>539.40</td>\n",
              "    </tr>\n",
              "    <tr>\n",
              "      <th>13</th>\n",
              "      <td>2019-08-15</td>\n",
              "      <td>East</td>\n",
              "      <td>Jones</td>\n",
              "      <td>Pencil</td>\n",
              "      <td>35</td>\n",
              "      <td>4.99</td>\n",
              "      <td>174.65</td>\n",
              "    </tr>\n",
              "    <tr>\n",
              "      <th>15</th>\n",
              "      <td>2019-09-18</td>\n",
              "      <td>East</td>\n",
              "      <td>Jones</td>\n",
              "      <td>Pen Set</td>\n",
              "      <td>16</td>\n",
              "      <td>15.99</td>\n",
              "      <td>255.84</td>\n",
              "    </tr>\n",
              "    <tr>\n",
              "      <th>17</th>\n",
              "      <td>2019-10-22</td>\n",
              "      <td>East</td>\n",
              "      <td>Jones</td>\n",
              "      <td>Pen</td>\n",
              "      <td>64</td>\n",
              "      <td>8.99</td>\n",
              "      <td>575.36</td>\n",
              "    </tr>\n",
              "    <tr>\n",
              "      <th>24</th>\n",
              "      <td>2020-02-18</td>\n",
              "      <td>East</td>\n",
              "      <td>Jones</td>\n",
              "      <td>Binder</td>\n",
              "      <td>4</td>\n",
              "      <td>4.99</td>\n",
              "      <td>19.96</td>\n",
              "    </tr>\n",
              "    <tr>\n",
              "      <th>32</th>\n",
              "      <td>2020-07-04</td>\n",
              "      <td>East</td>\n",
              "      <td>Jones</td>\n",
              "      <td>Pen Set</td>\n",
              "      <td>62</td>\n",
              "      <td>4.99</td>\n",
              "      <td>309.38</td>\n",
              "    </tr>\n",
              "  </tbody>\n",
              "</table>\n",
              "</div>"
            ],
            "text/plain": [
              "    OrderDate Region    Rep     Item  Units  Unit Cost   Total\n",
              "0  2019-01-06   East  Jones   Pencil     95       1.99  189.05\n",
              "5  2019-04-01   East  Jones   Binder     60       4.99  299.40\n",
              "9  2019-06-08   East  Jones   Binder     60       8.99  539.40\n",
              "13 2019-08-15   East  Jones   Pencil     35       4.99  174.65\n",
              "15 2019-09-18   East  Jones  Pen Set     16      15.99  255.84\n",
              "17 2019-10-22   East  Jones      Pen     64       8.99  575.36\n",
              "24 2020-02-18   East  Jones   Binder      4       4.99   19.96\n",
              "32 2020-07-04   East  Jones  Pen Set     62       4.99  309.38"
            ]
          },
          "metadata": {},
          "execution_count": 42
        }
      ]
    },
    {
      "cell_type": "code",
      "metadata": {
        "colab": {
          "base_uri": "https://localhost:8080/",
          "height": 112
        },
        "id": "IBFErk1tHwYn",
        "outputId": "9e5a5034-6296-4638-8be3-a8ab68dbef46"
      },
      "source": [
        "data[(data['Rep'] == 'Jones') & (data['Item'] == 'Pencil')]\n"
      ],
      "execution_count": 49,
      "outputs": [
        {
          "output_type": "execute_result",
          "data": {
            "text/html": [
              "<div>\n",
              "<style scoped>\n",
              "    .dataframe tbody tr th:only-of-type {\n",
              "        vertical-align: middle;\n",
              "    }\n",
              "\n",
              "    .dataframe tbody tr th {\n",
              "        vertical-align: top;\n",
              "    }\n",
              "\n",
              "    .dataframe thead th {\n",
              "        text-align: right;\n",
              "    }\n",
              "</style>\n",
              "<table border=\"1\" class=\"dataframe\">\n",
              "  <thead>\n",
              "    <tr style=\"text-align: right;\">\n",
              "      <th></th>\n",
              "      <th>OrderDate</th>\n",
              "      <th>Region</th>\n",
              "      <th>Rep</th>\n",
              "      <th>Item</th>\n",
              "      <th>Units</th>\n",
              "      <th>Unit Cost</th>\n",
              "      <th>Total</th>\n",
              "    </tr>\n",
              "  </thead>\n",
              "  <tbody>\n",
              "    <tr>\n",
              "      <th>0</th>\n",
              "      <td>2019-01-06</td>\n",
              "      <td>East</td>\n",
              "      <td>Jones</td>\n",
              "      <td>Pencil</td>\n",
              "      <td>95</td>\n",
              "      <td>1.99</td>\n",
              "      <td>189.05</td>\n",
              "    </tr>\n",
              "    <tr>\n",
              "      <th>13</th>\n",
              "      <td>2019-08-15</td>\n",
              "      <td>East</td>\n",
              "      <td>Jones</td>\n",
              "      <td>Pencil</td>\n",
              "      <td>35</td>\n",
              "      <td>4.99</td>\n",
              "      <td>174.65</td>\n",
              "    </tr>\n",
              "  </tbody>\n",
              "</table>\n",
              "</div>"
            ],
            "text/plain": [
              "    OrderDate Region    Rep    Item  Units  Unit Cost   Total\n",
              "0  2019-01-06   East  Jones  Pencil     95       1.99  189.05\n",
              "13 2019-08-15   East  Jones  Pencil     35       4.99  174.65"
            ]
          },
          "metadata": {},
          "execution_count": 49
        }
      ]
    },
    {
      "cell_type": "code",
      "metadata": {
        "id": "qoEUhDJKIZ2n"
      },
      "source": [
        "data1 = data[(data['Rep'] == 'Jones') & (data['Item'] == 'Pencil')]"
      ],
      "execution_count": 58,
      "outputs": []
    },
    {
      "cell_type": "code",
      "metadata": {
        "colab": {
          "base_uri": "https://localhost:8080/",
          "height": 112
        },
        "id": "HPUJF1RNKCbM",
        "outputId": "d3cf58ce-dfd3-4214-cca1-20fe5022f6f0"
      },
      "source": [
        "data1"
      ],
      "execution_count": 59,
      "outputs": [
        {
          "output_type": "execute_result",
          "data": {
            "text/html": [
              "<div>\n",
              "<style scoped>\n",
              "    .dataframe tbody tr th:only-of-type {\n",
              "        vertical-align: middle;\n",
              "    }\n",
              "\n",
              "    .dataframe tbody tr th {\n",
              "        vertical-align: top;\n",
              "    }\n",
              "\n",
              "    .dataframe thead th {\n",
              "        text-align: right;\n",
              "    }\n",
              "</style>\n",
              "<table border=\"1\" class=\"dataframe\">\n",
              "  <thead>\n",
              "    <tr style=\"text-align: right;\">\n",
              "      <th></th>\n",
              "      <th>OrderDate</th>\n",
              "      <th>Region</th>\n",
              "      <th>Rep</th>\n",
              "      <th>Item</th>\n",
              "      <th>Units</th>\n",
              "      <th>Unit Cost</th>\n",
              "      <th>Total</th>\n",
              "    </tr>\n",
              "  </thead>\n",
              "  <tbody>\n",
              "    <tr>\n",
              "      <th>0</th>\n",
              "      <td>2019-01-06</td>\n",
              "      <td>East</td>\n",
              "      <td>Jones</td>\n",
              "      <td>Pencil</td>\n",
              "      <td>95</td>\n",
              "      <td>1.99</td>\n",
              "      <td>189.05</td>\n",
              "    </tr>\n",
              "    <tr>\n",
              "      <th>13</th>\n",
              "      <td>2019-08-15</td>\n",
              "      <td>East</td>\n",
              "      <td>Jones</td>\n",
              "      <td>Pencil</td>\n",
              "      <td>35</td>\n",
              "      <td>4.99</td>\n",
              "      <td>174.65</td>\n",
              "    </tr>\n",
              "  </tbody>\n",
              "</table>\n",
              "</div>"
            ],
            "text/plain": [
              "    OrderDate Region    Rep    Item  Units  Unit Cost   Total\n",
              "0  2019-01-06   East  Jones  Pencil     95       1.99  189.05\n",
              "13 2019-08-15   East  Jones  Pencil     35       4.99  174.65"
            ]
          },
          "metadata": {},
          "execution_count": 59
        }
      ]
    },
    {
      "cell_type": "code",
      "metadata": {
        "id": "9AlI23uvJgXC"
      },
      "source": [
        "datatotal = data1['Total'].sum()"
      ],
      "execution_count": 60,
      "outputs": []
    },
    {
      "cell_type": "code",
      "metadata": {
        "id": "xG_FSh3wJuan"
      },
      "source": [
        "dataunits = data1['Units'].sum()"
      ],
      "execution_count": 62,
      "outputs": []
    },
    {
      "cell_type": "code",
      "metadata": {
        "colab": {
          "base_uri": "https://localhost:8080/"
        },
        "id": "rLti1xElKUF_",
        "outputId": "02afef87-6b36-459a-cfcc-14f1f474fb47"
      },
      "source": [
        "datatotal\n"
      ],
      "execution_count": 65,
      "outputs": [
        {
          "output_type": "execute_result",
          "data": {
            "text/plain": [
              "363.70000000000005"
            ]
          },
          "metadata": {},
          "execution_count": 65
        }
      ]
    },
    {
      "cell_type": "code",
      "metadata": {
        "colab": {
          "base_uri": "https://localhost:8080/"
        },
        "id": "KoKpZtBoKibC",
        "outputId": "9465c0e3-ea08-4e86-9bd8-a6b5be52e186"
      },
      "source": [
        "dataunits\n"
      ],
      "execution_count": 66,
      "outputs": [
        {
          "output_type": "execute_result",
          "data": {
            "text/plain": [
              "130"
            ]
          },
          "metadata": {},
          "execution_count": 66
        }
      ]
    },
    {
      "cell_type": "code",
      "metadata": {
        "id": "4svZmTJKKm-f"
      },
      "source": [
        ""
      ],
      "execution_count": null,
      "outputs": []
    }
  ]
}